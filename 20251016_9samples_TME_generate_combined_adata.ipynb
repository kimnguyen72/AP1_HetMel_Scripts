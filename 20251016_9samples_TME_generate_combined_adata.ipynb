{
 "cells": [
  {
   "cell_type": "markdown",
   "id": "774bebb9",
   "metadata": {},
   "source": [
    "### Load packages "
   ]
  },
  {
   "cell_type": "code",
   "execution_count": 4,
   "id": "76dc0c46",
   "metadata": {},
   "outputs": [],
   "source": [
    "\n",
    "import os\n",
    "import glob\n",
    "\n",
    "project_dir = \"/Volumes/FallahiLab/Maize-Data/People/Kim_Nguyen/AP-1_HetMel_analysis/20250707_9samples_cellstate/\"\n",
    "#project_dir = \"/standard/vol328/FallahiLab/Maize-Data/People/Kim_Nguyen/AP-1_HetMel_analysis/20250707_9samples_cellstate/\"\n",
    "#project_dir =\"/Users/zqn7td/Desktop/9samples_cellstate/\"\n",
    "\n",
    "os.chdir(\"/Volumes/FallahiLab/Maize-Data/People/Kim_Nguyen/AP-1_HetMel_analysis/AP1_HetMel_Scripts\")"
   ]
  },
  {
   "cell_type": "code",
   "execution_count": 5,
   "id": "822015ef",
   "metadata": {},
   "outputs": [],
   "source": [
    "##Import packages\n",
    "\n",
    "\n",
    "import anndata as ad\n",
    "import scimap as sm\n",
    "import importlib\n",
    "\n",
    "import scanpy as sp\n",
    "import pandas as pd\n",
    "import numpy as np\n",
    "import napari as napari\n",
    "import math\n",
    "import seaborn as sns\n",
    "import itertools\n",
    "\n",
    "from scipy import stats\n",
    "import matplotlib.patches as mpatches\n",
    "import matplotlib.pyplot as plt\n",
    "from matplotlib import colors\n",
    "from matplotlib import colors\n",
    "\n",
    "from sklearn.preprocessing import StandardScaler\n",
    "from scipy.cluster.hierarchy import linkage, dendrogram, fcluster, leaves_list\n",
    "from scipy.spatial.distance import pdist\n",
    "from matplotlib.colors import Normalize\n",
    "\n",
    "import hetmel as hm"
   ]
  },
  {
   "cell_type": "code",
   "execution_count": 6,
   "id": "90f82629",
   "metadata": {},
   "outputs": [
    {
     "data": {
      "text/plain": [
       "<module 'hetmel' from '/Volumes/FallahiLab/Maize-Data/People/Kim_Nguyen/AP-1_HetMel_analysis/AP1_HetMel_Scripts/hetmel.py'>"
      ]
     },
     "execution_count": 6,
     "metadata": {},
     "output_type": "execute_result"
    }
   ],
   "source": [
    "os.chdir('/Volumes/FallahiLab/Maize-Data/People/Kim_Nguyen/AP-1_HetMel_analysis/AP1_Hetmel_Scripts')\n",
    "importlib.reload(hm)"
   ]
  },
  {
   "cell_type": "markdown",
   "id": "216e7680",
   "metadata": {},
   "source": [
    "## Set Case number here"
   ]
  },
  {
   "cell_type": "markdown",
   "id": "4a6c4cfc",
   "metadata": {},
   "source": [
    "Case_numbers per IMAGE ID"
   ]
  },
  {
   "cell_type": "code",
   "execution_count": 1,
   "id": "5f86ec30",
   "metadata": {},
   "outputs": [],
   "source": [
    "imageids = [\n",
    "    \"Case1-31\",\n",
    "    \"Case2-8\",\n",
    "    \"Case3-9\",\n",
    "    \"Case4-5_R1\",\n",
    "    \"Case4-5_R2\",\n",
    "    \"Case7-10\",\n",
    "    \"Case8-9_R1\",\n",
    "    \"Case8-9_R2\",\n",
    "    \"Case9-7_R2\",\n",
    "    \"Case10-3_R1\",\n",
    "    \"Case10-3_R2\",\n",
    "    \"Case11-13\"\n",
    "]\n",
    "\n"
   ]
  },
  {
   "cell_type": "markdown",
   "id": "55ad89e0",
   "metadata": {},
   "source": [
    "Case_numbers per TISSUE ID"
   ]
  },
  {
   "cell_type": "code",
   "execution_count": 2,
   "id": "918e8b26",
   "metadata": {},
   "outputs": [],
   "source": [
    "case_numbers = [\n",
    "    \"Case1-31\",\n",
    "    \"Case2-8\",\n",
    "    \"Case3-9\",\n",
    "    \"Case4-5\",\n",
    "    \"Case7-10\",\n",
    "    \"Case8-9\",\n",
    "    \"Case9-7\",\n",
    "    \"Case10-3\",\n",
    "    \"Case11-13\"\n",
    "]"
   ]
  },
  {
   "cell_type": "markdown",
   "id": "e54e0cf7",
   "metadata": {},
   "source": [
    "Read in combined_adata"
   ]
  },
  {
   "cell_type": "code",
   "execution_count": 8,
   "id": "31717bf5",
   "metadata": {},
   "outputs": [],
   "source": [
    "adata = ad.read_h5ad(os.path.join(project_dir,'combined_tumor_ROI_adata_v1.h5ad'))"
   ]
  },
  {
   "cell_type": "code",
   "execution_count": null,
   "id": "535dae2b",
   "metadata": {},
   "outputs": [],
   "source": []
  }
 ],
 "metadata": {
  "kernelspec": {
   "display_name": "scimap",
   "language": "python",
   "name": "python3"
  },
  "language_info": {
   "codemirror_mode": {
    "name": "ipython",
    "version": 3
   },
   "file_extension": ".py",
   "mimetype": "text/x-python",
   "name": "python",
   "nbconvert_exporter": "python",
   "pygments_lexer": "ipython3",
   "version": "3.10.16"
  }
 },
 "nbformat": 4,
 "nbformat_minor": 5
}
