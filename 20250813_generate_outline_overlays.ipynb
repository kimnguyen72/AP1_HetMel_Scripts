{
 "cells": [
  {
   "cell_type": "markdown",
   "id": "4dab059f",
   "metadata": {},
   "source": [
    "load packages"
   ]
  },
  {
   "cell_type": "code",
   "execution_count": 3,
   "id": "14746b9e",
   "metadata": {},
   "outputs": [],
   "source": [
    "import os\n",
    "import glob\n",
    "import tifffile\n",
    "import numpy as np\n",
    "from cellpose import plot\n",
    "from cellpose import transforms\n",
    "from skimage.segmentation import find_boundaries\n",
    "from skimage import img_as_ubyte\n",
    "from skimage.io import imsave\n",
    "from imageio import imwrite  # for PNG saving\n",
    "\n"
   ]
  },
  {
   "cell_type": "code",
   "execution_count": 7,
   "id": "b09f212e",
   "metadata": {},
   "outputs": [],
   "source": [
    "project_dir = (\"/scratch/zqn7td/20250626_HetMel_ImageProcessing/\")\n"
   ]
  },
  {
   "cell_type": "code",
   "execution_count": 16,
   "id": "ac400609-07f1-47a7-aba1-57bb81623b2c",
   "metadata": {
    "tags": []
   },
   "outputs": [],
   "source": [
    "case_numbers = [\n",
    "    #\"Case1-31\",\n",
    "    \"Case2-8\",\n",
    "    \"Case3-9\",\n",
    "    \"Case4-5_R1\",\n",
    "    \"Case4-5_R2\",\n",
    "    \"Case7-10\",\n",
    "    \"Case8-9_R1\",\n",
    "    \"Case8-9_R2\",\n",
    "    \"Case9-7_R2\",\n",
    "    \"Case10-3_R1\",\n",
    "    \"Case10-3_R2\",\n",
    "    \"Case11-13\"\n",
    "]\n"
   ]
  },
  {
   "cell_type": "code",
   "execution_count": 11,
   "id": "97c7ba3d-9f3a-4c61-947d-dfa88c45943f",
   "metadata": {
    "tags": []
   },
   "outputs": [],
   "source": [
    "case_numbers = [\n",
    "    \"Case1-31\",\n",
    "   \n",
    "]"
   ]
  },
  {
   "cell_type": "code",
   "execution_count": 17,
   "id": "b9badec4-5beb-437a-b247-c737813439b6",
   "metadata": {
    "tags": []
   },
   "outputs": [
    {
     "name": "stdout",
     "output_type": "stream",
     "text": [
      "processing /scratch/zqn7td/20250626_HetMel_ImageProcessing/Case2-8/Case2-8_segmask_nuc_cyto.tif\n"
     ]
    },
    {
     "name": "stderr",
     "output_type": "stream",
     "text": [
      "/tmp/ipykernel_967303/1049364438.py:72: FutureWarning: The plugin infrastructure in `skimage.io` is deprecated since version 0.25 and will be removed in 0.27 (or later). To avoid this warning, please do not pass additional keyword arguments for plugins (`**plugin_args`). Instead, use `imageio` or other I/O packages directly. See also `skimage.io.imsave`.\n",
      "  imsave(save_path, imgout, quality=quality)\n"
     ]
    },
    {
     "name": "stdout",
     "output_type": "stream",
     "text": [
      "processing /scratch/zqn7td/20250626_HetMel_ImageProcessing/Case3-9/Case3-9_segmask_nuc_cyto.tif\n"
     ]
    },
    {
     "name": "stderr",
     "output_type": "stream",
     "text": [
      "/tmp/ipykernel_967303/1049364438.py:72: FutureWarning: The plugin infrastructure in `skimage.io` is deprecated since version 0.25 and will be removed in 0.27 (or later). To avoid this warning, please do not pass additional keyword arguments for plugins (`**plugin_args`). Instead, use `imageio` or other I/O packages directly. See also `skimage.io.imsave`.\n",
      "  imsave(save_path, imgout, quality=quality)\n"
     ]
    },
    {
     "name": "stdout",
     "output_type": "stream",
     "text": [
      "processing /scratch/zqn7td/20250626_HetMel_ImageProcessing/Case4-5_R1/Case4-5_R1_segmask_nuc_cyto.tif\n"
     ]
    },
    {
     "name": "stderr",
     "output_type": "stream",
     "text": [
      "/tmp/ipykernel_967303/1049364438.py:72: FutureWarning: The plugin infrastructure in `skimage.io` is deprecated since version 0.25 and will be removed in 0.27 (or later). To avoid this warning, please do not pass additional keyword arguments for plugins (`**plugin_args`). Instead, use `imageio` or other I/O packages directly. See also `skimage.io.imsave`.\n",
      "  imsave(save_path, imgout, quality=quality)\n"
     ]
    },
    {
     "name": "stdout",
     "output_type": "stream",
     "text": [
      "processing /scratch/zqn7td/20250626_HetMel_ImageProcessing/Case4-5_R2/Case4-5_R2_segmask_nuc_cyto.tif\n"
     ]
    },
    {
     "name": "stderr",
     "output_type": "stream",
     "text": [
      "/tmp/ipykernel_967303/1049364438.py:72: FutureWarning: The plugin infrastructure in `skimage.io` is deprecated since version 0.25 and will be removed in 0.27 (or later). To avoid this warning, please do not pass additional keyword arguments for plugins (`**plugin_args`). Instead, use `imageio` or other I/O packages directly. See also `skimage.io.imsave`.\n",
      "  imsave(save_path, imgout, quality=quality)\n"
     ]
    },
    {
     "name": "stdout",
     "output_type": "stream",
     "text": [
      "processing /scratch/zqn7td/20250626_HetMel_ImageProcessing/Case7-10/Case7-10_segmask_nuc_cyto.tif\n"
     ]
    },
    {
     "name": "stderr",
     "output_type": "stream",
     "text": [
      "/tmp/ipykernel_967303/1049364438.py:72: FutureWarning: The plugin infrastructure in `skimage.io` is deprecated since version 0.25 and will be removed in 0.27 (or later). To avoid this warning, please do not pass additional keyword arguments for plugins (`**plugin_args`). Instead, use `imageio` or other I/O packages directly. See also `skimage.io.imsave`.\n",
      "  imsave(save_path, imgout, quality=quality)\n"
     ]
    },
    {
     "name": "stdout",
     "output_type": "stream",
     "text": [
      "processing /scratch/zqn7td/20250626_HetMel_ImageProcessing/Case8-9_R1/Case8-9_R1_segmask_nuc_cyto.tif\n"
     ]
    },
    {
     "name": "stderr",
     "output_type": "stream",
     "text": [
      "/tmp/ipykernel_967303/1049364438.py:72: FutureWarning: The plugin infrastructure in `skimage.io` is deprecated since version 0.25 and will be removed in 0.27 (or later). To avoid this warning, please do not pass additional keyword arguments for plugins (`**plugin_args`). Instead, use `imageio` or other I/O packages directly. See also `skimage.io.imsave`.\n",
      "  imsave(save_path, imgout, quality=quality)\n"
     ]
    },
    {
     "name": "stdout",
     "output_type": "stream",
     "text": [
      "processing /scratch/zqn7td/20250626_HetMel_ImageProcessing/Case8-9_R2/Case8-9_R2_segmask_nuc_cyto.tif\n"
     ]
    },
    {
     "name": "stderr",
     "output_type": "stream",
     "text": [
      "/tmp/ipykernel_967303/1049364438.py:72: FutureWarning: The plugin infrastructure in `skimage.io` is deprecated since version 0.25 and will be removed in 0.27 (or later). To avoid this warning, please do not pass additional keyword arguments for plugins (`**plugin_args`). Instead, use `imageio` or other I/O packages directly. See also `skimage.io.imsave`.\n",
      "  imsave(save_path, imgout, quality=quality)\n"
     ]
    },
    {
     "name": "stdout",
     "output_type": "stream",
     "text": [
      "processing /scratch/zqn7td/20250626_HetMel_ImageProcessing/Case9-7_R2/Case9-7_R2_segmask_nuc_cyto.tif\n"
     ]
    },
    {
     "name": "stderr",
     "output_type": "stream",
     "text": [
      "/tmp/ipykernel_967303/1049364438.py:72: FutureWarning: The plugin infrastructure in `skimage.io` is deprecated since version 0.25 and will be removed in 0.27 (or later). To avoid this warning, please do not pass additional keyword arguments for plugins (`**plugin_args`). Instead, use `imageio` or other I/O packages directly. See also `skimage.io.imsave`.\n",
      "  imsave(save_path, imgout, quality=quality)\n"
     ]
    },
    {
     "name": "stdout",
     "output_type": "stream",
     "text": [
      "processing /scratch/zqn7td/20250626_HetMel_ImageProcessing/Case10-3_R1/Case10-3_R1_segmask_nuc_cyto.tif\n"
     ]
    },
    {
     "name": "stderr",
     "output_type": "stream",
     "text": [
      "/tmp/ipykernel_967303/1049364438.py:72: FutureWarning: The plugin infrastructure in `skimage.io` is deprecated since version 0.25 and will be removed in 0.27 (or later). To avoid this warning, please do not pass additional keyword arguments for plugins (`**plugin_args`). Instead, use `imageio` or other I/O packages directly. See also `skimage.io.imsave`.\n",
      "  imsave(save_path, imgout, quality=quality)\n"
     ]
    },
    {
     "name": "stdout",
     "output_type": "stream",
     "text": [
      "processing /scratch/zqn7td/20250626_HetMel_ImageProcessing/Case10-3_R2/Case10-3_R2_segmask_nuc_cyto.tif\n"
     ]
    },
    {
     "name": "stderr",
     "output_type": "stream",
     "text": [
      "/tmp/ipykernel_967303/1049364438.py:72: FutureWarning: The plugin infrastructure in `skimage.io` is deprecated since version 0.25 and will be removed in 0.27 (or later). To avoid this warning, please do not pass additional keyword arguments for plugins (`**plugin_args`). Instead, use `imageio` or other I/O packages directly. See also `skimage.io.imsave`.\n",
      "  imsave(save_path, imgout, quality=quality)\n"
     ]
    },
    {
     "name": "stdout",
     "output_type": "stream",
     "text": [
      "processing /scratch/zqn7td/20250626_HetMel_ImageProcessing/Case11-13/Case11-13_segmask_nuc_cyto.tif\n"
     ]
    },
    {
     "name": "stderr",
     "output_type": "stream",
     "text": [
      "/tmp/ipykernel_967303/1049364438.py:72: FutureWarning: The plugin infrastructure in `skimage.io` is deprecated since version 0.25 and will be removed in 0.27 (or later). To avoid this warning, please do not pass additional keyword arguments for plugins (`**plugin_args`). Instead, use `imageio` or other I/O packages directly. See also `skimage.io.imsave`.\n",
      "  imsave(save_path, imgout, quality=quality)\n"
     ]
    }
   ],
   "source": [
    "\n",
    "for case in case_numbers:\n",
    "    os.chdir(os.path.join(project_dir, case_number))\n",
    "    case_dir = os.path.join(project_dir, case)\n",
    "    mask_file = glob.glob(os.path.join(case_dir, \"**\", \"*nuc_cy*.tif\"), recursive=True)\n",
    "    mask_path = mask_file[0]\n",
    "    \n",
    "    print(f\"processing {mask_path}\")\n",
    "    \n",
    "    img_file=glob.glob(os.path.join(case_dir, \"**\",\"*allhoechst*fin*.tif\"), recursive=True)\n",
    "    img_path=img_file[0]\n",
    "    \n",
    "    \n",
    "    overlay_dna_outlines(img_path,mask_path)\n",
    "    \n",
    "                       \n",
    "    \n",
    "\n",
    "    "
   ]
  },
  {
   "cell_type": "markdown",
   "id": "b4dc3c5d",
   "metadata": {},
   "source": [
    "Change to tissue directory"
   ]
  },
  {
   "cell_type": "code",
   "execution_count": 14,
   "id": "20df5ca1",
   "metadata": {},
   "outputs": [],
   "source": [
    "\n",
    "os.chdir(os.path.join(project_dir, case_number))"
   ]
  },
  {
   "cell_type": "markdown",
   "id": "21311b41",
   "metadata": {},
   "source": [
    "find image and mask paths"
   ]
  },
  {
   "cell_type": "code",
   "execution_count": 19,
   "id": "8c16a159",
   "metadata": {},
   "outputs": [],
   "source": [
    "mask_path=glob.glob(\"*nuc_c*.tif\", recursive=True)\n",
    "mask_path = mask_path[0]\n",
    "masks = tifffile.imread(mask_path)\n",
    "\n",
    "img_path=glob.glob(\"*allhoechst*fin*.tif\", recursive=True)\n",
    "img_path=img_path[0]\n",
    "img = tifffile.imread(img_path)"
   ]
  },
  {
   "cell_type": "markdown",
   "id": "395ac014",
   "metadata": {},
   "source": [
    "outline view function modified from cellpose"
   ]
  },
  {
   "cell_type": "code",
   "execution_count": 20,
   "id": "abab9442-67d8-46ff-8ff3-3b71c712d204",
   "metadata": {
    "tags": []
   },
   "outputs": [
    {
     "data": {
      "text/plain": [
       "'mask_nuc_cyto.tif'"
      ]
     },
     "execution_count": 20,
     "metadata": {},
     "output_type": "execute_result"
    }
   ],
   "source": [
    "mask_path"
   ]
  },
  {
   "cell_type": "code",
   "execution_count": 21,
   "id": "6a28d346-569b-4154-a35a-d2c7db7618eb",
   "metadata": {
    "tags": []
   },
   "outputs": [
    {
     "data": {
      "text/plain": [
       "'Case1-31_allhoechst_bgsub_rb_15_final.tif'"
      ]
     },
     "execution_count": 21,
     "metadata": {},
     "output_type": "execute_result"
    }
   ],
   "source": [
    "img_path"
   ]
  },
  {
   "cell_type": "code",
   "execution_count": 10,
   "id": "b222fd77-bfdb-4575-bd4f-d07ede0171fb",
   "metadata": {
    "tags": []
   },
   "outputs": [],
   "source": [
    "def take_first_channel(img):\n",
    "    \"\"\"\n",
    "    Robustly select the first channel from an image, handling:\n",
    "    - single-channel (H x W)\n",
    "    - multi-channel channel-last (H x W x C)\n",
    "    - multi-channel channel-first (C x H x W)\n",
    "    \"\"\"\n",
    "    if img.ndim == 2:\n",
    "        # single-channel grayscale\n",
    "        return img\n",
    "    elif img.ndim == 3:\n",
    "        H, W, C = img.shape\n",
    "        if C <= 10:\n",
    "            # likely channel-last: H x W x C\n",
    "            return img[..., 0]\n",
    "        else:\n",
    "            # likely channel-first: C x H x W\n",
    "            return img[0, :, :]\n",
    "    else:\n",
    "        raise ValueError(f\"Unsupported image shape: {img.shape}\")\n",
    "\n",
    "\n",
    "def overlay_dna_outlines(image_path, mask_path, save_path=None, outline_color=(255,0,0), alpha=0.5, quality=95):\n",
    "    \"\"\"\n",
    "    Overlay segmentation outlines over autoscaled DNA (first channel) image.\n",
    "\n",
    "    Args:\n",
    "        image_path (str): Path to 23-channel image (.tif)\n",
    "        mask_path (str): Path to segmentation mask (.tif)\n",
    "        save_path (str): Optional path for PNG output\n",
    "        outline_color (tuple): RGB color for outlines (0-255)\n",
    "        alpha (float): Transparency for overlay (0-1)\n",
    "\n",
    "    Returns:\n",
    "        np.ndarray: RGB overlay image\n",
    "    \"\"\"\n",
    "    # Load image and mask\n",
    "    img = tifffile.imread(image_path)\n",
    "    masks = tifffile.imread(mask_path)\n",
    "\n",
    "    # Take first channel (DNA)\n",
    "    if img.ndim == 3:\n",
    "        if img.shape[0] <= 10:  # likely channel-last HxWxC\n",
    "            img = img[..., 0]\n",
    "        else:                    # likely channel-first CxHxW\n",
    "            img = img[0, :, :]\n",
    "    elif img.ndim != 2:\n",
    "        raise ValueError(f\"Unexpected image shape: {img.shape}\")\n",
    "\n",
    "    # Autoscale DNA\n",
    "    img_scaled = transforms.normalize99(img)\n",
    "\n",
    "    # Convert to RGB\n",
    "    img_rgb = np.stack([img_scaled]*3, axis=-1)\n",
    "    img_rgb = (img_rgb * 255).astype(np.uint8)\n",
    "\n",
    "    # Find outlines\n",
    "    outlines = find_boundaries(masks, mode=\"inner\")\n",
    "    outY, outX = np.nonzero(outlines)\n",
    "\n",
    "    # Overlay red outlines with transparency\n",
    "    imgout = img_rgb.astype(np.float32)\n",
    "    overlay_color = np.array(outline_color, dtype=np.float32)\n",
    "    imgout[outY, outX, :] = (1-alpha)*imgout[outY, outX, :] + alpha*overlay_color\n",
    "    imgout = imgout.astype(np.uint8)\n",
    "\n",
    "    # Save PNG in current folder if not specified\n",
    "    if save_path is None:\n",
    "        base_name = os.path.splitext(os.path.basename(mask_path))[0]\n",
    "        save_path = f\"{base_name}_nuc_cyto_overlay.jpg\"\n",
    "\n",
    "    imsave(save_path, imgout, quality=quality)"
   ]
  },
  {
   "cell_type": "code",
   "execution_count": 22,
   "id": "e359d410-0dfe-45ef-a76a-fe8bbb9951c5",
   "metadata": {
    "tags": []
   },
   "outputs": [
    {
     "name": "stderr",
     "output_type": "stream",
     "text": [
      "/tmp/ipykernel_268174/1154220771.py:72: FutureWarning: The plugin infrastructure in `skimage.io` is deprecated since version 0.25 and will be removed in 0.27 (or later). To avoid this warning, please do not pass additional keyword arguments for plugins (`**plugin_args`). Instead, use `imageio` or other I/O packages directly. See also `skimage.io.imsave`.\n",
      "  imsave(save_path, imgout, quality=quality)\n"
     ]
    }
   ],
   "source": [
    "overlay_dna_outlines(img_path,mask_path)"
   ]
  },
  {
   "cell_type": "code",
   "execution_count": 81,
   "id": "3134ef29-520c-41bc-af39-998cc10200ba",
   "metadata": {
    "tags": []
   },
   "outputs": [
    {
     "data": {
      "text/plain": [
       "(22700, 25500)"
      ]
     },
     "execution_count": 81,
     "metadata": {},
     "output_type": "execute_result"
    }
   ],
   "source": [
    "masks.shape"
   ]
  },
  {
   "cell_type": "code",
   "execution_count": 82,
   "id": "d0084fa0-8582-456c-a810-53e1aa0c6956",
   "metadata": {
    "tags": []
   },
   "outputs": [
    {
     "data": {
      "text/plain": [
       "(23, 22700, 22824)"
      ]
     },
     "execution_count": 82,
     "metadata": {},
     "output_type": "execute_result"
    }
   ],
   "source": [
    "img.shape"
   ]
  }
 ],
 "metadata": {
  "kernelspec": {
   "display_name": "cellpose3",
   "language": "python",
   "name": "myenv"
  },
  "language_info": {
   "codemirror_mode": {
    "name": "ipython",
    "version": 3
   },
   "file_extension": ".py",
   "mimetype": "text/x-python",
   "name": "python",
   "nbconvert_exporter": "python",
   "pygments_lexer": "ipython3",
   "version": "3.10.18"
  }
 },
 "nbformat": 4,
 "nbformat_minor": 5
}
