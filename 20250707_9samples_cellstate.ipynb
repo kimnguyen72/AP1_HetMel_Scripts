{
 "cells": [
  {
   "cell_type": "markdown",
   "id": "89758b59",
   "metadata": {},
   "source": [
    "# Setup"
   ]
  },
  {
   "cell_type": "markdown",
   "id": "f6755ce5",
   "metadata": {},
   "source": [
    "### Load packages"
   ]
  },
  {
   "cell_type": "code",
   "execution_count": 1,
   "id": "28458719",
   "metadata": {},
   "outputs": [
    {
     "name": "stdout",
     "output_type": "stream",
     "text": [
      "Running SCIMAP  2.2.11\n"
     ]
    },
    {
     "name": "stderr",
     "output_type": "stream",
     "text": [
      "/Users/zqn7td/anaconda3/envs/scimap/lib/python3.10/site-packages/tqdm/auto.py:21: TqdmWarning:\n",
      "\n",
      "IProgress not found. Please update jupyter and ipywidgets. See https://ipywidgets.readthedocs.io/en/stable/user_install.html\n",
      "\n"
     ]
    }
   ],
   "source": [
    "##Import packages\n",
    "import os\n",
    "import glob\n",
    "import anndata as ad\n",
    "import scimap as sm\n",
    "import importlib\n",
    "\n",
    "import scanpy as sp\n",
    "import pandas as pd\n",
    "import numpy as np\n",
    "import napari as napari\n",
    "import math\n",
    "import seaborn as sns\n",
    "import itertools\n",
    "\n",
    "from scipy import stats\n",
    "import matplotlib.patches as mpatches\n",
    "import matplotlib.pyplot as plt\n",
    "from matplotlib import colors\n",
    "from matplotlib import colors\n",
    "from sklearn.preprocessing import StandardScaler\n",
    "from scipy.cluster.hierarchy import linkage, dendrogram\n",
    "from scipy.spatial.distance import pdist\n",
    "from matplotlib.colors import Normalize\n",
    "\n",
    "import hetmel as hm"
   ]
  },
  {
   "cell_type": "code",
   "execution_count": null,
   "id": "ae8d6ff5",
   "metadata": {},
   "outputs": [
    {
     "data": {
      "text/plain": [
       "<module 'hetmel' from '/Volumes/FallahiLab/Maize-Data/People/Kim_Nguyen/AP-1_HetMel_analysis/Scripts/hetmel.py'>"
      ]
     },
     "metadata": {},
     "output_type": "display_data"
    }
   ],
   "source": [
    "importlib.reload(hm)"
   ]
  },
  {
   "cell_type": "markdown",
   "id": "024f363d",
   "metadata": {},
   "source": [
    "### Set up files, directories, variables"
   ]
  },
  {
   "cell_type": "markdown",
   "id": "c207d77b",
   "metadata": {},
   "source": [
    "Set and go to project directory "
   ]
  },
  {
   "cell_type": "code",
   "execution_count": 3,
   "id": "28eeee84",
   "metadata": {},
   "outputs": [],
   "source": [
    "case_number = \"Case4-5_R2\"\n",
    "project_dir = \"/Volumes/FallahiLab/Maize-Data/People/Kim_Nguyen/AP-1_HetMel_analysis/20250707_9samples_cellstate/\"\n",
    "\n",
    "os.chdir('/Volumes/FallahiLab/Maize-Data/People/Kim_Nguyen/AP-1_HetMel_analysis/Scripts')"
   ]
  },
  {
   "cell_type": "markdown",
   "id": "9b50ab8c",
   "metadata": {},
   "source": [
    "Variables "
   ]
  },
  {
   "cell_type": "code",
   "execution_count": null,
   "id": "f389e4a1",
   "metadata": {},
   "outputs": [],
   "source": [
    "phenotype = pd.read_csv(os.path.join(project_dir, '20250408_phenotyping_workflow_allcombinations.csv'))\n",
    "image_path= glob.glob(os.path.join(project_dir, case_number, '*final.ome.tif'))\n",
    "feature_table_path = glob.glob(os.path.join(project_dir, case_number, '*feature-extraction.csv'))"
   ]
  },
  {
   "cell_type": "code",
   "execution_count": 6,
   "id": "1697d39f",
   "metadata": {},
   "outputs": [
    {
     "data": {
      "text/plain": [
       "['/Volumes/FallahiLab/Maize-Data/People/Kim_Nguyen/AP-1_HetMel_analysis/20250707_9samples_cellstate/Case4-5_R2/Case4-5_R2_bgsub_rotate-crop_final.ome.tif']"
      ]
     },
     "execution_count": 6,
     "metadata": {},
     "output_type": "execute_result"
    }
   ],
   "source": [
    "image_path"
   ]
  },
  {
   "cell_type": "markdown",
   "id": "570ef0fd",
   "metadata": {},
   "source": [
    "Read in feature extraction csv and convert to anndata frame "
   ]
  },
  {
   "cell_type": "code",
   "execution_count": null,
   "id": "815ab0f5",
   "metadata": {},
   "outputs": [
    {
     "name": "stdout",
     "output_type": "stream",
     "text": [
      "Loading Case4-2_final_Case4-2_processed_nuclei.csv\n"
     ]
    }
   ],
   "source": [
    "\n",
    "adata = sm.pp.mcmicro_to_scimap(feature_table_path)"
   ]
  }
 ],
 "metadata": {
  "kernelspec": {
   "display_name": "scimap",
   "language": "python",
   "name": "python3"
  },
  "language_info": {
   "codemirror_mode": {
    "name": "ipython",
    "version": 3
   },
   "file_extension": ".py",
   "mimetype": "text/x-python",
   "name": "python",
   "nbconvert_exporter": "python",
   "pygments_lexer": "ipython3",
   "version": "3.10.16"
  }
 },
 "nbformat": 4,
 "nbformat_minor": 5
}
