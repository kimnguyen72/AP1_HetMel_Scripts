{
 "cells": [
  {
   "cell_type": "code",
   "execution_count": null,
   "id": "882c0ad8",
   "metadata": {},
   "outputs": [],
   "source": []
  },
  {
   "cell_type": "markdown",
   "id": "56445589",
   "metadata": {},
   "source": [
    "### Load packages "
   ]
  },
  {
   "cell_type": "code",
   "execution_count": 2,
   "id": "27d97e94",
   "metadata": {},
   "outputs": [],
   "source": [
    "\n",
    "import os\n",
    "import glob\n",
    "\n",
    "project_dir = \"/Volumes/FallahiLab/Maize-Data/People/Kim_Nguyen/AP-1_HetMel_analysis/20250707_9samples_cellstate/\"\n",
    "#project_dir = \"/standard/vol328/FallahiLab/Maize-Data/People/Kim_Nguyen/AP-1_HetMel_analysis/20250707_9samples_cellstate/\"\n",
    "#project_dir =\"/Users/zqn7td/Desktop/9samples_cellstate/\"\n",
    "\n",
    "os.chdir(\"/Volumes/FallahiLab/Maize-Data/People/Kim_Nguyen/AP-1_HetMel_analysis/Scripts\")"
   ]
  },
  {
   "cell_type": "code",
   "execution_count": 3,
   "id": "9050efb0",
   "metadata": {},
   "outputs": [
    {
     "name": "stdout",
     "output_type": "stream",
     "text": [
      "Running SCIMAP  2.3.5\n"
     ]
    },
    {
     "name": "stderr",
     "output_type": "stream",
     "text": [
      "/Users/zqn7td/anaconda3/envs/scimap/lib/python3.10/site-packages/tqdm/auto.py:21: TqdmWarning:\n",
      "\n",
      "IProgress not found. Please update jupyter and ipywidgets. See https://ipywidgets.readthedocs.io/en/stable/user_install.html\n",
      "\n"
     ]
    }
   ],
   "source": [
    "##Import packages\n",
    "\n",
    "\n",
    "import anndata as ad\n",
    "import scimap as sm\n",
    "import importlib\n",
    "\n",
    "import scanpy as sp\n",
    "import pandas as pd\n",
    "import numpy as np\n",
    "import napari as napari\n",
    "import math\n",
    "import seaborn as sns\n",
    "import itertools\n",
    "\n",
    "from scipy import stats\n",
    "import matplotlib.patches as mpatches\n",
    "import matplotlib.pyplot as plt\n",
    "from matplotlib import colors\n",
    "from matplotlib import colors\n",
    "\n",
    "from sklearn.preprocessing import StandardScaler\n",
    "from scipy.cluster.hierarchy import linkage, dendrogram, fcluster, leaves_list\n",
    "from scipy.spatial.distance import pdist\n",
    "from matplotlib.colors import Normalize\n",
    "\n",
    "import hetmel as hm"
   ]
  },
  {
   "cell_type": "code",
   "execution_count": 4,
   "id": "a8719075",
   "metadata": {},
   "outputs": [
    {
     "data": {
      "text/plain": [
       "<module 'hetmel' from '/Volumes/FallahiLab/Maize-Data/People/Kim_Nguyen/AP-1_HetMel_analysis/Scripts/hetmel.py'>"
      ]
     },
     "execution_count": 4,
     "metadata": {},
     "output_type": "execute_result"
    }
   ],
   "source": [
    "os.chdir('/Volumes/FallahiLab/Maize-Data/People/Kim_Nguyen/AP-1_HetMel_analysis/Scripts')\n",
    "importlib.reload(hm)"
   ]
  },
  {
   "cell_type": "markdown",
   "id": "b45f6860",
   "metadata": {},
   "source": [
    "## Set Case number here"
   ]
  },
  {
   "cell_type": "code",
   "execution_count": 72,
   "id": "62325f12",
   "metadata": {},
   "outputs": [],
   "source": [
    "case_numbers = [\n",
    "    \"Case1-31\",\n",
    "    \"Case2-8\",\n",
    "    \n",
    "    \"Case3-9\",\n",
    "    \"Case4-5_R1\",\n",
    "    \"Case4-5_R2\",\n",
    "    \"Case7-10\",\n",
    "    \"Case8-9_R1\",\n",
    "    \"Case8-9_R2\",\n",
    "    \"Case9-7_R2\",\n",
    "    \"Case10-3_R1\",\n",
    "    \"Case10-3_R2\",\n",
    "    \"Case11-13\"\n",
    "]\n",
    "\n",
    "phenotype = pd.read_csv(os.path.join(project_dir, '20251002_phenotyping_workflow_fullpanel.csv'))"
   ]
  },
  {
   "cell_type": "markdown",
   "id": "0f680497",
   "metadata": {},
   "source": [
    "## Generate list containing normalized adata of all cases"
   ]
  },
  {
   "cell_type": "markdown",
   "id": "bfa551e8",
   "metadata": {},
   "source": [
    "find paths to gates.csv files "
   ]
  },
  {
   "cell_type": "code",
   "execution_count": 8,
   "id": "e8665d2a",
   "metadata": {},
   "outputs": [
    {
     "name": "stdout",
     "output_type": "stream",
     "text": [
      "Found for Case1-31: /Volumes/FallahiLab/Maize-Data/People/Kim_Nguyen/AP-1_HetMel_analysis/20250707_9samples_cellstate/Case1-31/Case1-31_full_gates.csv\n",
      "Found for Case2-8: /Volumes/FallahiLab/Maize-Data/People/Kim_Nguyen/AP-1_HetMel_analysis/20250707_9samples_cellstate/Case2-8/Case2-8_full_gates.csv\n",
      "Found for Case3-9: /Volumes/FallahiLab/Maize-Data/People/Kim_Nguyen/AP-1_HetMel_analysis/20250707_9samples_cellstate/Case3-9/Case3-9_gates.csv\n",
      "Found for Case4-5_R1: /Volumes/FallahiLab/Maize-Data/People/Kim_Nguyen/AP-1_HetMel_analysis/20250707_9samples_cellstate/Case4-5_R1/Case4-5_R1_full_gates.csv\n",
      "Found for Case4-5_R2: /Volumes/FallahiLab/Maize-Data/People/Kim_Nguyen/AP-1_HetMel_analysis/20250707_9samples_cellstate/Case4-5_R2/Case4-5_R2_full_gates.csv\n",
      "Found for Case7-10: /Volumes/FallahiLab/Maize-Data/People/Kim_Nguyen/AP-1_HetMel_analysis/20250707_9samples_cellstate/Case7-10/Case7-10_full_gates.csv\n",
      "Found for Case8-9_R1: /Volumes/FallahiLab/Maize-Data/People/Kim_Nguyen/AP-1_HetMel_analysis/20250707_9samples_cellstate/Case8-9_R1/Case8-9_R1_full_gates.csv\n",
      "Found for Case8-9_R2: /Volumes/FallahiLab/Maize-Data/People/Kim_Nguyen/AP-1_HetMel_analysis/20250707_9samples_cellstate/Case8-9_R2/Case8-9_R2_full_gates.csv\n",
      "Found for Case9-7_R2: /Volumes/FallahiLab/Maize-Data/People/Kim_Nguyen/AP-1_HetMel_analysis/20250707_9samples_cellstate/Case9-7_R2/Case9-7_R2_full_gates.csv\n",
      "Found for Case10-3_R1: /Volumes/FallahiLab/Maize-Data/People/Kim_Nguyen/AP-1_HetMel_analysis/20250707_9samples_cellstate/Case10-3_R1/Case10-3_R1_full_gates.csv\n",
      "Found for Case10-3_R2: /Volumes/FallahiLab/Maize-Data/People/Kim_Nguyen/AP-1_HetMel_analysis/20250707_9samples_cellstate/Case10-3_R2/Case10-3_R1_full_gates.csv\n",
      "Found for Case11-13: /Volumes/FallahiLab/Maize-Data/People/Kim_Nguyen/AP-1_HetMel_analysis/20250707_9samples_cellstate/Case11-13/Case11-13_full_gates.csv\n"
     ]
    }
   ],
   "source": [
    "\n",
    "gate_file_paths = {}\n",
    "\n",
    "for case_number in case_numbers:\n",
    "    # Search for gates.csv inside the case-specific subdirectory\n",
    "    search_path = os.path.join(project_dir, case_number, '*gates.csv')\n",
    "    matches = glob.glob(search_path)\n",
    "    if matches:\n",
    "        gate_file_paths[case_number] = matches[0]  # Take the first match\n",
    "        print(f\"Found for {case_number}: {matches[0]}\")\n",
    "    else:\n",
    "        gate_file_paths[case_number] = None\n",
    "        print(f\"No gates.csv file found for {case_number}\")"
   ]
  },
  {
   "cell_type": "code",
   "execution_count": 9,
   "id": "01ec341e",
   "metadata": {},
   "outputs": [
    {
     "data": {
      "text/plain": [
       "{'Case1-31': '/Volumes/FallahiLab/Maize-Data/People/Kim_Nguyen/AP-1_HetMel_analysis/20250707_9samples_cellstate/Case1-31/Case1-31_full_gates.csv',\n",
       " 'Case2-8': '/Volumes/FallahiLab/Maize-Data/People/Kim_Nguyen/AP-1_HetMel_analysis/20250707_9samples_cellstate/Case2-8/Case2-8_full_gates.csv',\n",
       " 'Case3-9': '/Volumes/FallahiLab/Maize-Data/People/Kim_Nguyen/AP-1_HetMel_analysis/20250707_9samples_cellstate/Case3-9/Case3-9_gates.csv',\n",
       " 'Case4-5_R1': '/Volumes/FallahiLab/Maize-Data/People/Kim_Nguyen/AP-1_HetMel_analysis/20250707_9samples_cellstate/Case4-5_R1/Case4-5_R1_full_gates.csv',\n",
       " 'Case4-5_R2': '/Volumes/FallahiLab/Maize-Data/People/Kim_Nguyen/AP-1_HetMel_analysis/20250707_9samples_cellstate/Case4-5_R2/Case4-5_R2_full_gates.csv',\n",
       " 'Case7-10': '/Volumes/FallahiLab/Maize-Data/People/Kim_Nguyen/AP-1_HetMel_analysis/20250707_9samples_cellstate/Case7-10/Case7-10_full_gates.csv',\n",
       " 'Case8-9_R1': '/Volumes/FallahiLab/Maize-Data/People/Kim_Nguyen/AP-1_HetMel_analysis/20250707_9samples_cellstate/Case8-9_R1/Case8-9_R1_full_gates.csv',\n",
       " 'Case8-9_R2': '/Volumes/FallahiLab/Maize-Data/People/Kim_Nguyen/AP-1_HetMel_analysis/20250707_9samples_cellstate/Case8-9_R2/Case8-9_R2_full_gates.csv',\n",
       " 'Case9-7_R2': '/Volumes/FallahiLab/Maize-Data/People/Kim_Nguyen/AP-1_HetMel_analysis/20250707_9samples_cellstate/Case9-7_R2/Case9-7_R2_full_gates.csv',\n",
       " 'Case10-3_R1': '/Volumes/FallahiLab/Maize-Data/People/Kim_Nguyen/AP-1_HetMel_analysis/20250707_9samples_cellstate/Case10-3_R1/Case10-3_R1_full_gates.csv',\n",
       " 'Case10-3_R2': '/Volumes/FallahiLab/Maize-Data/People/Kim_Nguyen/AP-1_HetMel_analysis/20250707_9samples_cellstate/Case10-3_R2/Case10-3_R1_full_gates.csv',\n",
       " 'Case11-13': '/Volumes/FallahiLab/Maize-Data/People/Kim_Nguyen/AP-1_HetMel_analysis/20250707_9samples_cellstate/Case11-13/Case11-13_full_gates.csv'}"
      ]
     },
     "execution_count": 9,
     "metadata": {},
     "output_type": "execute_result"
    }
   ],
   "source": [
    "gate_file_paths"
   ]
  },
  {
   "cell_type": "markdown",
   "id": "6dd2b54f",
   "metadata": {},
   "source": [
    "Loop through adata for each case, normalize the adata to that case's gate values, and append normalized data to a list"
   ]
  },
  {
   "cell_type": "code",
   "execution_count": 11,
   "id": "ea75887e",
   "metadata": {},
   "outputs": [
    {
     "name": "stdout",
     "output_type": "stream",
     "text": [
      "Reading in raw adata for Case1-31\n",
      "Copying gates from /Volumes/FallahiLab/Maize-Data/People/Kim_Nguyen/AP-1_HetMel_analysis/20250707_9samples_cellstate/Case1-31/Case1-31_full_gates.csv\n",
      "Subtracting the following gate values from each marker:\n",
      "  Hoechst_1: 0.0\n",
      "  PRAME: 2.86\n",
      "  MITF: 4.3\n",
      "  JUND: 3.7\n",
      "  SOX10: 4.6\n",
      "  cJUN: 2.9\n",
      "  cFOS: 3.9\n",
      "  NGFR: 6.5\n",
      "  SOX9: 4.2\n",
      "  Ki67: 2.85\n",
      "  CD45: 3.6\n",
      "  AXL: 3.6\n",
      "  FRA1: 4.9\n",
      "  Hoechst_6: 0.0\n",
      "  CD4: 3.9\n",
      "  JUNB: 2.9\n",
      "  pancK: 2.7\n",
      "  FRA2: 3.0\n",
      "  CD163: 4.76\n",
      "  alphaSMA: 3.4\n",
      "  CD8: 4.1\n",
      "  CD19: 5.08\n",
      "  Hoechst_11: 7.343920451148872\n",
      "  CD31: 4.1\n",
      "  PDGFRBeta: 4.86\n",
      "  pSTAT1: 3.48\n",
      "  FOXP3: 3.7\n",
      "  CD68: 3.4\n",
      "  BRAFV600E: 5.0\n",
      "  phospho-p38: 3.7\n",
      "  anti-Melanoma: 2.87\n",
      "  phospho-p44: 5.71\n",
      "  Hoechst_17: 7.251324716064622\n",
      "  FAP: 5.21\n",
      "Background normalization complete. Layer 'log_background_normalized' added.\n",
      "Reading in raw adata for Case2-8\n"
     ]
    },
    {
     "ename": "KeyboardInterrupt",
     "evalue": "",
     "output_type": "error",
     "traceback": [
      "\u001b[0;31m---------------------------------------------------------------------------\u001b[0m",
      "\u001b[0;31mKeyboardInterrupt\u001b[0m                         Traceback (most recent call last)",
      "Cell \u001b[0;32mIn[11], line 8\u001b[0m\n\u001b[1;32m      6\u001b[0m \u001b[38;5;66;03m# Read in raw adata file for this case\u001b[39;00m\n\u001b[1;32m      7\u001b[0m adata_path \u001b[38;5;241m=\u001b[39m os\u001b[38;5;241m.\u001b[39mpath\u001b[38;5;241m.\u001b[39mjoin(project_dir, \u001b[38;5;124m'\u001b[39m\u001b[38;5;124mraw_adata\u001b[39m\u001b[38;5;124m'\u001b[39m, \u001b[38;5;124mf\u001b[39m\u001b[38;5;124m'\u001b[39m\u001b[38;5;132;01m{\u001b[39;00mcase_number\u001b[38;5;132;01m}\u001b[39;00m\u001b[38;5;124m_raw.h5ad\u001b[39m\u001b[38;5;124m'\u001b[39m)\n\u001b[0;32m----> 8\u001b[0m adata \u001b[38;5;241m=\u001b[39m \u001b[43mad\u001b[49m\u001b[38;5;241;43m.\u001b[39;49m\u001b[43mread_h5ad\u001b[49m\u001b[43m(\u001b[49m\u001b[43madata_path\u001b[49m\u001b[43m)\u001b[49m\n\u001b[1;32m     10\u001b[0m \u001b[38;5;28mprint\u001b[39m(\u001b[38;5;124mf\u001b[39m\u001b[38;5;124m\"\u001b[39m\u001b[38;5;124mCopying gates from \u001b[39m\u001b[38;5;132;01m{\u001b[39;00mgate_file_paths[case_number]\u001b[38;5;132;01m}\u001b[39;00m\u001b[38;5;124m\"\u001b[39m)\n\u001b[1;32m     11\u001b[0m marker_gates \u001b[38;5;241m=\u001b[39m pd\u001b[38;5;241m.\u001b[39mread_csv(os\u001b[38;5;241m.\u001b[39mpath\u001b[38;5;241m.\u001b[39mjoin( project_dir, case_number, \u001b[38;5;124mf\u001b[39m\u001b[38;5;124m'\u001b[39m\u001b[38;5;132;01m{\u001b[39;00mcase_number\u001b[38;5;132;01m}\u001b[39;00m\u001b[38;5;124m_full_gates.csv\u001b[39m\u001b[38;5;124m'\u001b[39m),\n\u001b[1;32m     12\u001b[0m header \u001b[38;5;241m=\u001b[39m [\u001b[38;5;241m0\u001b[39m], index_col \u001b[38;5;241m=\u001b[39m[\u001b[38;5;241m0\u001b[39m])\n",
      "File \u001b[0;32m~/anaconda3/envs/scimap/lib/python3.10/site-packages/anndata/_io/h5ad.py:258\u001b[0m, in \u001b[0;36mread_h5ad\u001b[0;34m(filename, backed, as_sparse, as_sparse_fmt, chunk_size)\u001b[0m\n\u001b[1;32m    255\u001b[0m         \u001b[38;5;28;01mreturn\u001b[39;00m read_dataframe(elem)\n\u001b[1;32m    256\u001b[0m     \u001b[38;5;28;01mreturn\u001b[39;00m func(elem)\n\u001b[0;32m--> 258\u001b[0m adata \u001b[38;5;241m=\u001b[39m \u001b[43mread_dispatched\u001b[49m\u001b[43m(\u001b[49m\u001b[43mf\u001b[49m\u001b[43m,\u001b[49m\u001b[43m \u001b[49m\u001b[43mcallback\u001b[49m\u001b[38;5;241;43m=\u001b[39;49m\u001b[43mcallback\u001b[49m\u001b[43m)\u001b[49m\n\u001b[1;32m    260\u001b[0m \u001b[38;5;66;03m# Backwards compat (should figure out which version)\u001b[39;00m\n\u001b[1;32m    261\u001b[0m \u001b[38;5;28;01mif\u001b[39;00m \u001b[38;5;124m\"\u001b[39m\u001b[38;5;124mraw.X\u001b[39m\u001b[38;5;124m\"\u001b[39m \u001b[38;5;129;01min\u001b[39;00m f:\n",
      "File \u001b[0;32m~/anaconda3/envs/scimap/lib/python3.10/site-packages/anndata/experimental/_dispatch_io.py:42\u001b[0m, in \u001b[0;36mread_dispatched\u001b[0;34m(elem, callback)\u001b[0m\n\u001b[1;32m     38\u001b[0m \u001b[38;5;28;01mfrom\u001b[39;00m\u001b[38;5;250m \u001b[39m\u001b[38;5;21;01manndata\u001b[39;00m\u001b[38;5;21;01m.\u001b[39;00m\u001b[38;5;21;01m_io\u001b[39;00m\u001b[38;5;21;01m.\u001b[39;00m\u001b[38;5;21;01mspecs\u001b[39;00m\u001b[38;5;250m \u001b[39m\u001b[38;5;28;01mimport\u001b[39;00m _REGISTRY, Reader\n\u001b[1;32m     40\u001b[0m reader \u001b[38;5;241m=\u001b[39m Reader(_REGISTRY, callback\u001b[38;5;241m=\u001b[39mcallback)\n\u001b[0;32m---> 42\u001b[0m \u001b[38;5;28;01mreturn\u001b[39;00m \u001b[43mreader\u001b[49m\u001b[38;5;241;43m.\u001b[39;49m\u001b[43mread_elem\u001b[49m\u001b[43m(\u001b[49m\u001b[43melem\u001b[49m\u001b[43m)\u001b[49m\n",
      "File \u001b[0;32m~/anaconda3/envs/scimap/lib/python3.10/site-packages/anndata/_io/utils.py:211\u001b[0m, in \u001b[0;36mreport_read_key_on_error.<locals>.func_wrapper\u001b[0;34m(*args, **kwargs)\u001b[0m\n\u001b[1;32m    209\u001b[0m     \u001b[38;5;28;01mraise\u001b[39;00m \u001b[38;5;167;01mValueError\u001b[39;00m(\u001b[38;5;124m\"\u001b[39m\u001b[38;5;124mNo element found in args.\u001b[39m\u001b[38;5;124m\"\u001b[39m)\n\u001b[1;32m    210\u001b[0m \u001b[38;5;28;01mtry\u001b[39;00m:\n\u001b[0;32m--> 211\u001b[0m     \u001b[38;5;28;01mreturn\u001b[39;00m \u001b[43mfunc\u001b[49m\u001b[43m(\u001b[49m\u001b[38;5;241;43m*\u001b[39;49m\u001b[43margs\u001b[49m\u001b[43m,\u001b[49m\u001b[43m \u001b[49m\u001b[38;5;241;43m*\u001b[39;49m\u001b[38;5;241;43m*\u001b[39;49m\u001b[43mkwargs\u001b[49m\u001b[43m)\u001b[49m\n\u001b[1;32m    212\u001b[0m \u001b[38;5;28;01mexcept\u001b[39;00m \u001b[38;5;167;01mException\u001b[39;00m \u001b[38;5;28;01mas\u001b[39;00m e:\n\u001b[1;32m    213\u001b[0m     path, key \u001b[38;5;241m=\u001b[39m _get_display_path(store)\u001b[38;5;241m.\u001b[39mrsplit(\u001b[38;5;124m\"\u001b[39m\u001b[38;5;124m/\u001b[39m\u001b[38;5;124m\"\u001b[39m, \u001b[38;5;241m1\u001b[39m)\n",
      "File \u001b[0;32m~/anaconda3/envs/scimap/lib/python3.10/site-packages/anndata/_io/specs/registry.py:275\u001b[0m, in \u001b[0;36mReader.read_elem\u001b[0;34m(self, elem, modifiers)\u001b[0m\n\u001b[1;32m    273\u001b[0m \u001b[38;5;28;01mif\u001b[39;00m \u001b[38;5;28mself\u001b[39m\u001b[38;5;241m.\u001b[39mcallback \u001b[38;5;129;01mis\u001b[39;00m \u001b[38;5;28;01mNone\u001b[39;00m:\n\u001b[1;32m    274\u001b[0m     \u001b[38;5;28;01mreturn\u001b[39;00m read_func(elem)\n\u001b[0;32m--> 275\u001b[0m \u001b[38;5;28;01mreturn\u001b[39;00m \u001b[38;5;28;43mself\u001b[39;49m\u001b[38;5;241;43m.\u001b[39;49m\u001b[43mcallback\u001b[49m\u001b[43m(\u001b[49m\u001b[43mread_func\u001b[49m\u001b[43m,\u001b[49m\u001b[43m \u001b[49m\u001b[43melem\u001b[49m\u001b[38;5;241;43m.\u001b[39;49m\u001b[43mname\u001b[49m\u001b[43m,\u001b[49m\u001b[43m \u001b[49m\u001b[43melem\u001b[49m\u001b[43m,\u001b[49m\u001b[43m \u001b[49m\u001b[43miospec\u001b[49m\u001b[38;5;241;43m=\u001b[39;49m\u001b[43miospec\u001b[49m\u001b[43m)\u001b[49m\n",
      "File \u001b[0;32m~/anaconda3/envs/scimap/lib/python3.10/site-packages/anndata/_io/h5ad.py:239\u001b[0m, in \u001b[0;36mread_h5ad.<locals>.callback\u001b[0;34m(func, elem_name, elem, iospec)\u001b[0m\n\u001b[1;32m    236\u001b[0m \u001b[38;5;28;01mdef\u001b[39;00m\u001b[38;5;250m \u001b[39m\u001b[38;5;21mcallback\u001b[39m(func, elem_name: \u001b[38;5;28mstr\u001b[39m, elem, iospec):\n\u001b[1;32m    237\u001b[0m     \u001b[38;5;28;01mif\u001b[39;00m iospec\u001b[38;5;241m.\u001b[39mencoding_type \u001b[38;5;241m==\u001b[39m \u001b[38;5;124m\"\u001b[39m\u001b[38;5;124manndata\u001b[39m\u001b[38;5;124m\"\u001b[39m \u001b[38;5;129;01mor\u001b[39;00m elem_name\u001b[38;5;241m.\u001b[39mendswith(\u001b[38;5;124m\"\u001b[39m\u001b[38;5;124m/\u001b[39m\u001b[38;5;124m\"\u001b[39m):\n\u001b[1;32m    238\u001b[0m         \u001b[38;5;28;01mreturn\u001b[39;00m AnnData(\n\u001b[0;32m--> 239\u001b[0m             \u001b[38;5;241m*\u001b[39m\u001b[38;5;241m*\u001b[39m{\n\u001b[1;32m    240\u001b[0m                 \u001b[38;5;66;03m# This is covering up backwards compat in the anndata initializer\u001b[39;00m\n\u001b[1;32m    241\u001b[0m                 \u001b[38;5;66;03m# In most cases we should be able to call `func(elen[k])` instead\u001b[39;00m\n\u001b[1;32m    242\u001b[0m                 k: read_dispatched(elem[k], callback)\n\u001b[1;32m    243\u001b[0m                 \u001b[38;5;28;01mfor\u001b[39;00m k \u001b[38;5;129;01min\u001b[39;00m elem\u001b[38;5;241m.\u001b[39mkeys()\n\u001b[1;32m    244\u001b[0m                 \u001b[38;5;28;01mif\u001b[39;00m \u001b[38;5;129;01mnot\u001b[39;00m k\u001b[38;5;241m.\u001b[39mstartswith(\u001b[38;5;124m\"\u001b[39m\u001b[38;5;124mraw.\u001b[39m\u001b[38;5;124m\"\u001b[39m)\n\u001b[1;32m    245\u001b[0m             }\n\u001b[1;32m    246\u001b[0m         )\n\u001b[1;32m    247\u001b[0m     \u001b[38;5;28;01melif\u001b[39;00m elem_name\u001b[38;5;241m.\u001b[39mstartswith(\u001b[38;5;124m\"\u001b[39m\u001b[38;5;124m/raw.\u001b[39m\u001b[38;5;124m\"\u001b[39m):\n\u001b[1;32m    248\u001b[0m         \u001b[38;5;28;01mreturn\u001b[39;00m \u001b[38;5;28;01mNone\u001b[39;00m\n",
      "File \u001b[0;32m~/anaconda3/envs/scimap/lib/python3.10/site-packages/anndata/_io/h5ad.py:242\u001b[0m, in \u001b[0;36m<dictcomp>\u001b[0;34m(.0)\u001b[0m\n\u001b[1;32m    236\u001b[0m \u001b[38;5;28;01mdef\u001b[39;00m\u001b[38;5;250m \u001b[39m\u001b[38;5;21mcallback\u001b[39m(func, elem_name: \u001b[38;5;28mstr\u001b[39m, elem, iospec):\n\u001b[1;32m    237\u001b[0m     \u001b[38;5;28;01mif\u001b[39;00m iospec\u001b[38;5;241m.\u001b[39mencoding_type \u001b[38;5;241m==\u001b[39m \u001b[38;5;124m\"\u001b[39m\u001b[38;5;124manndata\u001b[39m\u001b[38;5;124m\"\u001b[39m \u001b[38;5;129;01mor\u001b[39;00m elem_name\u001b[38;5;241m.\u001b[39mendswith(\u001b[38;5;124m\"\u001b[39m\u001b[38;5;124m/\u001b[39m\u001b[38;5;124m\"\u001b[39m):\n\u001b[1;32m    238\u001b[0m         \u001b[38;5;28;01mreturn\u001b[39;00m AnnData(\n\u001b[1;32m    239\u001b[0m             \u001b[38;5;241m*\u001b[39m\u001b[38;5;241m*\u001b[39m{\n\u001b[1;32m    240\u001b[0m                 \u001b[38;5;66;03m# This is covering up backwards compat in the anndata initializer\u001b[39;00m\n\u001b[1;32m    241\u001b[0m                 \u001b[38;5;66;03m# In most cases we should be able to call `func(elen[k])` instead\u001b[39;00m\n\u001b[0;32m--> 242\u001b[0m                 k: \u001b[43mread_dispatched\u001b[49m\u001b[43m(\u001b[49m\u001b[43melem\u001b[49m\u001b[43m[\u001b[49m\u001b[43mk\u001b[49m\u001b[43m]\u001b[49m\u001b[43m,\u001b[49m\u001b[43m \u001b[49m\u001b[43mcallback\u001b[49m\u001b[43m)\u001b[49m\n\u001b[1;32m    243\u001b[0m                 \u001b[38;5;28;01mfor\u001b[39;00m k \u001b[38;5;129;01min\u001b[39;00m elem\u001b[38;5;241m.\u001b[39mkeys()\n\u001b[1;32m    244\u001b[0m                 \u001b[38;5;28;01mif\u001b[39;00m \u001b[38;5;129;01mnot\u001b[39;00m k\u001b[38;5;241m.\u001b[39mstartswith(\u001b[38;5;124m\"\u001b[39m\u001b[38;5;124mraw.\u001b[39m\u001b[38;5;124m\"\u001b[39m)\n\u001b[1;32m    245\u001b[0m             }\n\u001b[1;32m    246\u001b[0m         )\n\u001b[1;32m    247\u001b[0m     \u001b[38;5;28;01melif\u001b[39;00m elem_name\u001b[38;5;241m.\u001b[39mstartswith(\u001b[38;5;124m\"\u001b[39m\u001b[38;5;124m/raw.\u001b[39m\u001b[38;5;124m\"\u001b[39m):\n\u001b[1;32m    248\u001b[0m         \u001b[38;5;28;01mreturn\u001b[39;00m \u001b[38;5;28;01mNone\u001b[39;00m\n",
      "File \u001b[0;32m~/anaconda3/envs/scimap/lib/python3.10/site-packages/anndata/experimental/_dispatch_io.py:42\u001b[0m, in \u001b[0;36mread_dispatched\u001b[0;34m(elem, callback)\u001b[0m\n\u001b[1;32m     38\u001b[0m \u001b[38;5;28;01mfrom\u001b[39;00m\u001b[38;5;250m \u001b[39m\u001b[38;5;21;01manndata\u001b[39;00m\u001b[38;5;21;01m.\u001b[39;00m\u001b[38;5;21;01m_io\u001b[39;00m\u001b[38;5;21;01m.\u001b[39;00m\u001b[38;5;21;01mspecs\u001b[39;00m\u001b[38;5;250m \u001b[39m\u001b[38;5;28;01mimport\u001b[39;00m _REGISTRY, Reader\n\u001b[1;32m     40\u001b[0m reader \u001b[38;5;241m=\u001b[39m Reader(_REGISTRY, callback\u001b[38;5;241m=\u001b[39mcallback)\n\u001b[0;32m---> 42\u001b[0m \u001b[38;5;28;01mreturn\u001b[39;00m \u001b[43mreader\u001b[49m\u001b[38;5;241;43m.\u001b[39;49m\u001b[43mread_elem\u001b[49m\u001b[43m(\u001b[49m\u001b[43melem\u001b[49m\u001b[43m)\u001b[49m\n",
      "File \u001b[0;32m~/anaconda3/envs/scimap/lib/python3.10/site-packages/anndata/_io/utils.py:211\u001b[0m, in \u001b[0;36mreport_read_key_on_error.<locals>.func_wrapper\u001b[0;34m(*args, **kwargs)\u001b[0m\n\u001b[1;32m    209\u001b[0m     \u001b[38;5;28;01mraise\u001b[39;00m \u001b[38;5;167;01mValueError\u001b[39;00m(\u001b[38;5;124m\"\u001b[39m\u001b[38;5;124mNo element found in args.\u001b[39m\u001b[38;5;124m\"\u001b[39m)\n\u001b[1;32m    210\u001b[0m \u001b[38;5;28;01mtry\u001b[39;00m:\n\u001b[0;32m--> 211\u001b[0m     \u001b[38;5;28;01mreturn\u001b[39;00m \u001b[43mfunc\u001b[49m\u001b[43m(\u001b[49m\u001b[38;5;241;43m*\u001b[39;49m\u001b[43margs\u001b[49m\u001b[43m,\u001b[49m\u001b[43m \u001b[49m\u001b[38;5;241;43m*\u001b[39;49m\u001b[38;5;241;43m*\u001b[39;49m\u001b[43mkwargs\u001b[49m\u001b[43m)\u001b[49m\n\u001b[1;32m    212\u001b[0m \u001b[38;5;28;01mexcept\u001b[39;00m \u001b[38;5;167;01mException\u001b[39;00m \u001b[38;5;28;01mas\u001b[39;00m e:\n\u001b[1;32m    213\u001b[0m     path, key \u001b[38;5;241m=\u001b[39m _get_display_path(store)\u001b[38;5;241m.\u001b[39mrsplit(\u001b[38;5;124m\"\u001b[39m\u001b[38;5;124m/\u001b[39m\u001b[38;5;124m\"\u001b[39m, \u001b[38;5;241m1\u001b[39m)\n",
      "File \u001b[0;32m~/anaconda3/envs/scimap/lib/python3.10/site-packages/anndata/_io/specs/registry.py:275\u001b[0m, in \u001b[0;36mReader.read_elem\u001b[0;34m(self, elem, modifiers)\u001b[0m\n\u001b[1;32m    273\u001b[0m \u001b[38;5;28;01mif\u001b[39;00m \u001b[38;5;28mself\u001b[39m\u001b[38;5;241m.\u001b[39mcallback \u001b[38;5;129;01mis\u001b[39;00m \u001b[38;5;28;01mNone\u001b[39;00m:\n\u001b[1;32m    274\u001b[0m     \u001b[38;5;28;01mreturn\u001b[39;00m read_func(elem)\n\u001b[0;32m--> 275\u001b[0m \u001b[38;5;28;01mreturn\u001b[39;00m \u001b[38;5;28;43mself\u001b[39;49m\u001b[38;5;241;43m.\u001b[39;49m\u001b[43mcallback\u001b[49m\u001b[43m(\u001b[49m\u001b[43mread_func\u001b[49m\u001b[43m,\u001b[49m\u001b[43m \u001b[49m\u001b[43melem\u001b[49m\u001b[38;5;241;43m.\u001b[39;49m\u001b[43mname\u001b[49m\u001b[43m,\u001b[49m\u001b[43m \u001b[49m\u001b[43melem\u001b[49m\u001b[43m,\u001b[49m\u001b[43m \u001b[49m\u001b[43miospec\u001b[49m\u001b[38;5;241;43m=\u001b[39;49m\u001b[43miospec\u001b[49m\u001b[43m)\u001b[49m\n",
      "File \u001b[0;32m~/anaconda3/envs/scimap/lib/python3.10/site-packages/anndata/_io/h5ad.py:255\u001b[0m, in \u001b[0;36mread_h5ad.<locals>.callback\u001b[0;34m(func, elem_name, elem, iospec)\u001b[0m\n\u001b[1;32m    252\u001b[0m     \u001b[38;5;28;01mreturn\u001b[39;00m _read_raw(f, as_sparse, rdasp)\n\u001b[1;32m    253\u001b[0m \u001b[38;5;28;01melif\u001b[39;00m elem_name \u001b[38;5;129;01min\u001b[39;00m {\u001b[38;5;124m\"\u001b[39m\u001b[38;5;124m/obs\u001b[39m\u001b[38;5;124m\"\u001b[39m, \u001b[38;5;124m\"\u001b[39m\u001b[38;5;124m/var\u001b[39m\u001b[38;5;124m\"\u001b[39m}:\n\u001b[1;32m    254\u001b[0m     \u001b[38;5;66;03m# Backwards compat\u001b[39;00m\n\u001b[0;32m--> 255\u001b[0m     \u001b[38;5;28;01mreturn\u001b[39;00m \u001b[43mread_dataframe\u001b[49m\u001b[43m(\u001b[49m\u001b[43melem\u001b[49m\u001b[43m)\u001b[49m\n\u001b[1;32m    256\u001b[0m \u001b[38;5;28;01mreturn\u001b[39;00m func(elem)\n",
      "File \u001b[0;32m~/anaconda3/envs/scimap/lib/python3.10/site-packages/anndata/_io/h5ad.py:317\u001b[0m, in \u001b[0;36mread_dataframe\u001b[0;34m(group)\u001b[0m\n\u001b[1;32m    315\u001b[0m     \u001b[38;5;28;01mreturn\u001b[39;00m read_dataframe_legacy(group)\n\u001b[1;32m    316\u001b[0m \u001b[38;5;28;01melse\u001b[39;00m:\n\u001b[0;32m--> 317\u001b[0m     \u001b[38;5;28;01mreturn\u001b[39;00m \u001b[43mread_elem\u001b[49m\u001b[43m(\u001b[49m\u001b[43mgroup\u001b[49m\u001b[43m)\u001b[49m\n",
      "File \u001b[0;32m~/anaconda3/envs/scimap/lib/python3.10/site-packages/anndata/_io/specs/registry.py:351\u001b[0m, in \u001b[0;36mread_elem\u001b[0;34m(elem)\u001b[0m\n\u001b[1;32m    339\u001b[0m \u001b[38;5;28;01mdef\u001b[39;00m\u001b[38;5;250m \u001b[39m\u001b[38;5;21mread_elem\u001b[39m(elem: StorageType) \u001b[38;5;241m-\u001b[39m\u001b[38;5;241m>\u001b[39m InMemoryElem:\n\u001b[1;32m    340\u001b[0m \u001b[38;5;250m    \u001b[39m\u001b[38;5;124;03m\"\"\"\u001b[39;00m\n\u001b[1;32m    341\u001b[0m \u001b[38;5;124;03m    Read an element from a store.\u001b[39;00m\n\u001b[1;32m    342\u001b[0m \n\u001b[0;32m   (...)\u001b[0m\n\u001b[1;32m    349\u001b[0m \u001b[38;5;124;03m        The stored element.\u001b[39;00m\n\u001b[1;32m    350\u001b[0m \u001b[38;5;124;03m    \"\"\"\u001b[39;00m\n\u001b[0;32m--> 351\u001b[0m     \u001b[38;5;28;01mreturn\u001b[39;00m \u001b[43mReader\u001b[49m\u001b[43m(\u001b[49m\u001b[43m_REGISTRY\u001b[49m\u001b[43m)\u001b[49m\u001b[38;5;241;43m.\u001b[39;49m\u001b[43mread_elem\u001b[49m\u001b[43m(\u001b[49m\u001b[43melem\u001b[49m\u001b[43m)\u001b[49m\n",
      "File \u001b[0;32m~/anaconda3/envs/scimap/lib/python3.10/site-packages/anndata/_io/utils.py:211\u001b[0m, in \u001b[0;36mreport_read_key_on_error.<locals>.func_wrapper\u001b[0;34m(*args, **kwargs)\u001b[0m\n\u001b[1;32m    209\u001b[0m     \u001b[38;5;28;01mraise\u001b[39;00m \u001b[38;5;167;01mValueError\u001b[39;00m(\u001b[38;5;124m\"\u001b[39m\u001b[38;5;124mNo element found in args.\u001b[39m\u001b[38;5;124m\"\u001b[39m)\n\u001b[1;32m    210\u001b[0m \u001b[38;5;28;01mtry\u001b[39;00m:\n\u001b[0;32m--> 211\u001b[0m     \u001b[38;5;28;01mreturn\u001b[39;00m \u001b[43mfunc\u001b[49m\u001b[43m(\u001b[49m\u001b[38;5;241;43m*\u001b[39;49m\u001b[43margs\u001b[49m\u001b[43m,\u001b[49m\u001b[43m \u001b[49m\u001b[38;5;241;43m*\u001b[39;49m\u001b[38;5;241;43m*\u001b[39;49m\u001b[43mkwargs\u001b[49m\u001b[43m)\u001b[49m\n\u001b[1;32m    212\u001b[0m \u001b[38;5;28;01mexcept\u001b[39;00m \u001b[38;5;167;01mException\u001b[39;00m \u001b[38;5;28;01mas\u001b[39;00m e:\n\u001b[1;32m    213\u001b[0m     path, key \u001b[38;5;241m=\u001b[39m _get_display_path(store)\u001b[38;5;241m.\u001b[39mrsplit(\u001b[38;5;124m\"\u001b[39m\u001b[38;5;124m/\u001b[39m\u001b[38;5;124m\"\u001b[39m, \u001b[38;5;241m1\u001b[39m)\n",
      "File \u001b[0;32m~/anaconda3/envs/scimap/lib/python3.10/site-packages/anndata/_io/specs/registry.py:274\u001b[0m, in \u001b[0;36mReader.read_elem\u001b[0;34m(self, elem, modifiers)\u001b[0m\n\u001b[1;32m    272\u001b[0m read_func \u001b[38;5;241m=\u001b[39m \u001b[38;5;28mself\u001b[39m\u001b[38;5;241m.\u001b[39mregistry\u001b[38;5;241m.\u001b[39mget_read(\u001b[38;5;28mtype\u001b[39m(elem), iospec, modifiers, reader\u001b[38;5;241m=\u001b[39m\u001b[38;5;28mself\u001b[39m)\n\u001b[1;32m    273\u001b[0m \u001b[38;5;28;01mif\u001b[39;00m \u001b[38;5;28mself\u001b[39m\u001b[38;5;241m.\u001b[39mcallback \u001b[38;5;129;01mis\u001b[39;00m \u001b[38;5;28;01mNone\u001b[39;00m:\n\u001b[0;32m--> 274\u001b[0m     \u001b[38;5;28;01mreturn\u001b[39;00m \u001b[43mread_func\u001b[49m\u001b[43m(\u001b[49m\u001b[43melem\u001b[49m\u001b[43m)\u001b[49m\n\u001b[1;32m    275\u001b[0m \u001b[38;5;28;01mreturn\u001b[39;00m \u001b[38;5;28mself\u001b[39m\u001b[38;5;241m.\u001b[39mcallback(read_func, elem\u001b[38;5;241m.\u001b[39mname, elem, iospec\u001b[38;5;241m=\u001b[39miospec)\n",
      "File \u001b[0;32m~/anaconda3/envs/scimap/lib/python3.10/site-packages/anndata/_io/specs/methods.py:842\u001b[0m, in \u001b[0;36mread_dataframe\u001b[0;34m(elem, _reader)\u001b[0m\n\u001b[1;32m    838\u001b[0m columns \u001b[38;5;241m=\u001b[39m \u001b[38;5;28mlist\u001b[39m(_read_attr(elem\u001b[38;5;241m.\u001b[39mattrs, \u001b[38;5;124m\"\u001b[39m\u001b[38;5;124mcolumn-order\u001b[39m\u001b[38;5;124m\"\u001b[39m))\n\u001b[1;32m    839\u001b[0m idx_key \u001b[38;5;241m=\u001b[39m _read_attr(elem\u001b[38;5;241m.\u001b[39mattrs, \u001b[38;5;124m\"\u001b[39m\u001b[38;5;124m_index\u001b[39m\u001b[38;5;124m\"\u001b[39m)\n\u001b[1;32m    840\u001b[0m df \u001b[38;5;241m=\u001b[39m pd\u001b[38;5;241m.\u001b[39mDataFrame(\n\u001b[1;32m    841\u001b[0m     {k: _reader\u001b[38;5;241m.\u001b[39mread_elem(elem[k]) \u001b[38;5;28;01mfor\u001b[39;00m k \u001b[38;5;129;01min\u001b[39;00m columns},\n\u001b[0;32m--> 842\u001b[0m     index\u001b[38;5;241m=\u001b[39m\u001b[43m_reader\u001b[49m\u001b[38;5;241;43m.\u001b[39;49m\u001b[43mread_elem\u001b[49m\u001b[43m(\u001b[49m\u001b[43melem\u001b[49m\u001b[43m[\u001b[49m\u001b[43midx_key\u001b[49m\u001b[43m]\u001b[49m\u001b[43m)\u001b[49m,\n\u001b[1;32m    843\u001b[0m     columns\u001b[38;5;241m=\u001b[39mcolumns \u001b[38;5;28;01mif\u001b[39;00m \u001b[38;5;28mlen\u001b[39m(columns) \u001b[38;5;28;01melse\u001b[39;00m \u001b[38;5;28;01mNone\u001b[39;00m,\n\u001b[1;32m    844\u001b[0m )\n\u001b[1;32m    845\u001b[0m \u001b[38;5;28;01mif\u001b[39;00m idx_key \u001b[38;5;241m!=\u001b[39m \u001b[38;5;124m\"\u001b[39m\u001b[38;5;124m_index\u001b[39m\u001b[38;5;124m\"\u001b[39m:\n\u001b[1;32m    846\u001b[0m     df\u001b[38;5;241m.\u001b[39mindex\u001b[38;5;241m.\u001b[39mname \u001b[38;5;241m=\u001b[39m idx_key\n",
      "File \u001b[0;32m~/anaconda3/envs/scimap/lib/python3.10/site-packages/anndata/_io/utils.py:211\u001b[0m, in \u001b[0;36mreport_read_key_on_error.<locals>.func_wrapper\u001b[0;34m(*args, **kwargs)\u001b[0m\n\u001b[1;32m    209\u001b[0m     \u001b[38;5;28;01mraise\u001b[39;00m \u001b[38;5;167;01mValueError\u001b[39;00m(\u001b[38;5;124m\"\u001b[39m\u001b[38;5;124mNo element found in args.\u001b[39m\u001b[38;5;124m\"\u001b[39m)\n\u001b[1;32m    210\u001b[0m \u001b[38;5;28;01mtry\u001b[39;00m:\n\u001b[0;32m--> 211\u001b[0m     \u001b[38;5;28;01mreturn\u001b[39;00m \u001b[43mfunc\u001b[49m\u001b[43m(\u001b[49m\u001b[38;5;241;43m*\u001b[39;49m\u001b[43margs\u001b[49m\u001b[43m,\u001b[49m\u001b[43m \u001b[49m\u001b[38;5;241;43m*\u001b[39;49m\u001b[38;5;241;43m*\u001b[39;49m\u001b[43mkwargs\u001b[49m\u001b[43m)\u001b[49m\n\u001b[1;32m    212\u001b[0m \u001b[38;5;28;01mexcept\u001b[39;00m \u001b[38;5;167;01mException\u001b[39;00m \u001b[38;5;28;01mas\u001b[39;00m e:\n\u001b[1;32m    213\u001b[0m     path, key \u001b[38;5;241m=\u001b[39m _get_display_path(store)\u001b[38;5;241m.\u001b[39mrsplit(\u001b[38;5;124m\"\u001b[39m\u001b[38;5;124m/\u001b[39m\u001b[38;5;124m\"\u001b[39m, \u001b[38;5;241m1\u001b[39m)\n",
      "File \u001b[0;32m~/anaconda3/envs/scimap/lib/python3.10/site-packages/anndata/_io/specs/registry.py:274\u001b[0m, in \u001b[0;36mReader.read_elem\u001b[0;34m(self, elem, modifiers)\u001b[0m\n\u001b[1;32m    272\u001b[0m read_func \u001b[38;5;241m=\u001b[39m \u001b[38;5;28mself\u001b[39m\u001b[38;5;241m.\u001b[39mregistry\u001b[38;5;241m.\u001b[39mget_read(\u001b[38;5;28mtype\u001b[39m(elem), iospec, modifiers, reader\u001b[38;5;241m=\u001b[39m\u001b[38;5;28mself\u001b[39m)\n\u001b[1;32m    273\u001b[0m \u001b[38;5;28;01mif\u001b[39;00m \u001b[38;5;28mself\u001b[39m\u001b[38;5;241m.\u001b[39mcallback \u001b[38;5;129;01mis\u001b[39;00m \u001b[38;5;28;01mNone\u001b[39;00m:\n\u001b[0;32m--> 274\u001b[0m     \u001b[38;5;28;01mreturn\u001b[39;00m \u001b[43mread_func\u001b[49m\u001b[43m(\u001b[49m\u001b[43melem\u001b[49m\u001b[43m)\u001b[49m\n\u001b[1;32m    275\u001b[0m \u001b[38;5;28;01mreturn\u001b[39;00m \u001b[38;5;28mself\u001b[39m\u001b[38;5;241m.\u001b[39mcallback(read_func, elem\u001b[38;5;241m.\u001b[39mname, elem, iospec\u001b[38;5;241m=\u001b[39miospec)\n",
      "File \u001b[0;32m~/anaconda3/envs/scimap/lib/python3.10/site-packages/anndata/_io/specs/methods.py:461\u001b[0m, in \u001b[0;36mread_string_array\u001b[0;34m(d, _reader)\u001b[0m\n\u001b[1;32m    459\u001b[0m \u001b[38;5;129m@_REGISTRY\u001b[39m\u001b[38;5;241m.\u001b[39mregister_read(H5Array, IOSpec(\u001b[38;5;124m\"\u001b[39m\u001b[38;5;124mstring-array\u001b[39m\u001b[38;5;124m\"\u001b[39m, \u001b[38;5;124m\"\u001b[39m\u001b[38;5;124m0.2.0\u001b[39m\u001b[38;5;124m\"\u001b[39m))\n\u001b[1;32m    460\u001b[0m \u001b[38;5;28;01mdef\u001b[39;00m\u001b[38;5;250m \u001b[39m\u001b[38;5;21mread_string_array\u001b[39m(d: H5Array, \u001b[38;5;241m*\u001b[39m, _reader: Reader):\n\u001b[0;32m--> 461\u001b[0m     \u001b[38;5;28;01mreturn\u001b[39;00m \u001b[43mread_array\u001b[49m\u001b[43m(\u001b[49m\u001b[43md\u001b[49m\u001b[38;5;241;43m.\u001b[39;49m\u001b[43masstr\u001b[49m\u001b[43m(\u001b[49m\u001b[43m)\u001b[49m\u001b[43m,\u001b[49m\u001b[43m \u001b[49m\u001b[43m_reader\u001b[49m\u001b[38;5;241;43m=\u001b[39;49m\u001b[43m_reader\u001b[49m\u001b[43m)\u001b[49m\n",
      "File \u001b[0;32m~/anaconda3/envs/scimap/lib/python3.10/site-packages/anndata/_io/specs/methods.py:444\u001b[0m, in \u001b[0;36mread_array\u001b[0;34m(elem, _reader)\u001b[0m\n\u001b[1;32m    440\u001b[0m \u001b[38;5;129m@_REGISTRY\u001b[39m\u001b[38;5;241m.\u001b[39mregister_read(H5Array, IOSpec(\u001b[38;5;124m\"\u001b[39m\u001b[38;5;124marray\u001b[39m\u001b[38;5;124m\"\u001b[39m, \u001b[38;5;124m\"\u001b[39m\u001b[38;5;124m0.2.0\u001b[39m\u001b[38;5;124m\"\u001b[39m))\n\u001b[1;32m    441\u001b[0m \u001b[38;5;129m@_REGISTRY\u001b[39m\u001b[38;5;241m.\u001b[39mregister_read(ZarrArray, IOSpec(\u001b[38;5;124m\"\u001b[39m\u001b[38;5;124marray\u001b[39m\u001b[38;5;124m\"\u001b[39m, \u001b[38;5;124m\"\u001b[39m\u001b[38;5;124m0.2.0\u001b[39m\u001b[38;5;124m\"\u001b[39m))\n\u001b[1;32m    442\u001b[0m \u001b[38;5;129m@_REGISTRY\u001b[39m\u001b[38;5;241m.\u001b[39mregister_read(ZarrArray, IOSpec(\u001b[38;5;124m\"\u001b[39m\u001b[38;5;124mstring-array\u001b[39m\u001b[38;5;124m\"\u001b[39m, \u001b[38;5;124m\"\u001b[39m\u001b[38;5;124m0.2.0\u001b[39m\u001b[38;5;124m\"\u001b[39m))\n\u001b[1;32m    443\u001b[0m \u001b[38;5;28;01mdef\u001b[39;00m\u001b[38;5;250m \u001b[39m\u001b[38;5;21mread_array\u001b[39m(elem: ArrayStorageType, \u001b[38;5;241m*\u001b[39m, _reader: Reader) \u001b[38;5;241m-\u001b[39m\u001b[38;5;241m>\u001b[39m npt\u001b[38;5;241m.\u001b[39mNDArray:\n\u001b[0;32m--> 444\u001b[0m     \u001b[38;5;28;01mreturn\u001b[39;00m \u001b[43melem\u001b[49m\u001b[43m[\u001b[49m\u001b[43m(\u001b[49m\u001b[43m)\u001b[49m\u001b[43m]\u001b[49m\n",
      "File \u001b[0;32m~/anaconda3/envs/scimap/lib/python3.10/site-packages/h5py/_hl/dataset.py:241\u001b[0m, in \u001b[0;36mAsStrWrapper.__getitem__\u001b[0;34m(self, args)\u001b[0m\n\u001b[1;32m    240\u001b[0m \u001b[38;5;28;01mdef\u001b[39;00m\u001b[38;5;250m \u001b[39m\u001b[38;5;21m__getitem__\u001b[39m(\u001b[38;5;28mself\u001b[39m, args):\n\u001b[0;32m--> 241\u001b[0m     bytes_arr \u001b[38;5;241m=\u001b[39m \u001b[38;5;28;43mself\u001b[39;49m\u001b[38;5;241;43m.\u001b[39;49m\u001b[43m_dset\u001b[49m\u001b[43m[\u001b[49m\u001b[43margs\u001b[49m\u001b[43m]\u001b[49m\n\u001b[1;32m    242\u001b[0m     \u001b[38;5;66;03m# numpy.char.decode() seems like the obvious thing to use. But it only\u001b[39;00m\n\u001b[1;32m    243\u001b[0m     \u001b[38;5;66;03m# accepts numpy string arrays, not object arrays of bytes (which we\u001b[39;00m\n\u001b[1;32m    244\u001b[0m     \u001b[38;5;66;03m# return from HDF5 variable-length strings). And the numpy\u001b[39;00m\n\u001b[1;32m    245\u001b[0m     \u001b[38;5;66;03m# implementation is not faster than doing it with a loop; in fact, by\u001b[39;00m\n\u001b[1;32m    246\u001b[0m     \u001b[38;5;66;03m# not converting the result to a numpy unicode array, the\u001b[39;00m\n\u001b[1;32m    247\u001b[0m     \u001b[38;5;66;03m# naive way can be faster! (Comparing with numpy 1.18.4, June 2020)\u001b[39;00m\n\u001b[1;32m    248\u001b[0m     \u001b[38;5;28;01mif\u001b[39;00m numpy\u001b[38;5;241m.\u001b[39misscalar(bytes_arr):\n",
      "File \u001b[0;32mh5py/_objects.pyx:54\u001b[0m, in \u001b[0;36mh5py._objects.with_phil.wrapper\u001b[0;34m()\u001b[0m\n",
      "File \u001b[0;32mh5py/_objects.pyx:55\u001b[0m, in \u001b[0;36mh5py._objects.with_phil.wrapper\u001b[0;34m()\u001b[0m\n",
      "File \u001b[0;32m~/anaconda3/envs/scimap/lib/python3.10/site-packages/h5py/_hl/dataset.py:864\u001b[0m, in \u001b[0;36mDataset.__getitem__\u001b[0;34m(self, args, new_dtype)\u001b[0m\n\u001b[1;32m    862\u001b[0m mspace \u001b[38;5;241m=\u001b[39m h5s\u001b[38;5;241m.\u001b[39mcreate_simple(selection\u001b[38;5;241m.\u001b[39mmshape)\n\u001b[1;32m    863\u001b[0m fspace \u001b[38;5;241m=\u001b[39m selection\u001b[38;5;241m.\u001b[39mid\n\u001b[0;32m--> 864\u001b[0m \u001b[38;5;28;43mself\u001b[39;49m\u001b[38;5;241;43m.\u001b[39;49m\u001b[43mid\u001b[49m\u001b[38;5;241;43m.\u001b[39;49m\u001b[43mread\u001b[49m\u001b[43m(\u001b[49m\u001b[43mmspace\u001b[49m\u001b[43m,\u001b[49m\u001b[43m \u001b[49m\u001b[43mfspace\u001b[49m\u001b[43m,\u001b[49m\u001b[43m \u001b[49m\u001b[43marr\u001b[49m\u001b[43m,\u001b[49m\u001b[43m \u001b[49m\u001b[43mmtype\u001b[49m\u001b[43m,\u001b[49m\u001b[43m \u001b[49m\u001b[43mdxpl\u001b[49m\u001b[38;5;241;43m=\u001b[39;49m\u001b[38;5;28;43mself\u001b[39;49m\u001b[38;5;241;43m.\u001b[39;49m\u001b[43m_dxpl\u001b[49m\u001b[43m)\u001b[49m\n\u001b[1;32m    866\u001b[0m \u001b[38;5;66;03m# Patch up the output for NumPy\u001b[39;00m\n\u001b[1;32m    867\u001b[0m \u001b[38;5;28;01mif\u001b[39;00m arr\u001b[38;5;241m.\u001b[39mshape \u001b[38;5;241m==\u001b[39m ():\n",
      "\u001b[0;31mKeyboardInterrupt\u001b[0m: "
     ]
    }
   ],
   "source": [
    "adata_list = []\n",
    "\n",
    "for case_number in case_numbers:\n",
    "    if gate_file_paths[case_number] is not None:\n",
    "        print(f\"Reading in raw adata for {case_number}\")\n",
    "        # Read in raw adata file for this case\n",
    "        adata_path = os.path.join(project_dir, 'raw_adata', f'{case_number}_raw.h5ad')\n",
    "        adata = ad.read_h5ad(adata_path)\n",
    "        \n",
    "        print(f\"Copying gates from {gate_file_paths[case_number]}\")\n",
    "        marker_gates = pd.read_csv(os.path.join( project_dir, case_number, f'{case_number}_full_gates.csv'),\n",
    "        header = [0], index_col =[0])\n",
    "        adata.uns['gates'] = marker_gates\n",
    "        \n",
    "        hm.normalize_to_gates(adata)\n",
    "        # Copy the original layer\n",
    "        adata.layers['log_background_normalized_zeroed'] = adata.layers['log_background_normalized'].copy()\n",
    "        # Zero out negative values\n",
    "        adata.layers['log_background_normalized_zeroed'][adata.layers['log_background_normalized_zeroed'] < 0] = 0\n",
    "        \n",
    "        adata.obs['TissueID']= adata.obs['imageid'].str.split('_').str[0]\n",
    "        \n",
    "        adata_list.append(adata)\n",
    "    else:\n",
    "        print(f\"Skipping {case_number}: No gates.csv file found, cannot normalize and combine\")\n",
    "        \n"
   ]
  },
  {
   "cell_type": "code",
   "execution_count": 12,
   "id": "1129607f",
   "metadata": {},
   "outputs": [
    {
     "data": {
      "text/plain": [
       "[AnnData object with n_obs × n_vars = 33720 × 34\n",
       "     obs: 'X_centroid', 'Y_centroid', 'Area', 'MajorAxisLength', 'MinorAxisLength', 'Eccentricity', 'Solidity', 'Extent', 'Orientation', 'CellID', 'imageid', 'TissueID'\n",
       "     uns: 'all_markers', 'gates'\n",
       "     layers: 'log', 'log1p_raw', 'log_background_normalized', 'log_background_normalized_zeroed']"
      ]
     },
     "execution_count": 12,
     "metadata": {},
     "output_type": "execute_result"
    }
   ],
   "source": [
    "adata_list"
   ]
  },
  {
   "cell_type": "code",
   "execution_count": 21,
   "id": "9376296c",
   "metadata": {},
   "outputs": [],
   "source": [
    "for adata in adata_list:\n",
    "    adata.obs_names = adata.obs_names.str.replace(r'Case1-31_feature-extraction_merged', '', regex=True)"
   ]
  },
  {
   "cell_type": "code",
   "execution_count": 22,
   "id": "b1fac99e",
   "metadata": {},
   "outputs": [],
   "source": [
    "adata_list= []\n",
    "for case in case_numbers:\n",
    "    adata_path = os.path.join(project_dir, 'raw_adata', f'{case}_raw.h5ad')\n",
    "    adata = ad.read_h5ad(adata_path)\n",
    "    \n",
    "    adata_list.append(adata)"
   ]
  },
  {
   "cell_type": "code",
   "execution_count": 29,
   "id": "201bc99a",
   "metadata": {},
   "outputs": [],
   "source": [
    "processed_adata_list= []\n",
    "for case in case_numbers:\n",
    "    adata_path = os.path.join(project_dir, 'processed_adata', f'{case}_adata.h5ad')\n",
    "    adata = ad.read_h5ad(adata_path)\n",
    "    \n",
    "    processed_adata_list.append(adata)"
   ]
  },
  {
   "cell_type": "code",
   "execution_count": 65,
   "id": "1ee545f5",
   "metadata": {},
   "outputs": [],
   "source": [
    "for adata in processed_adata_list:\n",
    "    adata.obs_names = adata.obs_names.str.replace(r'_feature-extraction_merged', '', regex=True)"
   ]
  },
  {
   "cell_type": "code",
   "execution_count": null,
   "id": "b1a5303e",
   "metadata": {},
   "outputs": [],
   "source": [
    "for adata in adata_list:\n",
    "    adata.obs['TissueID'] = adata.obs['imageid'].str.split('_').str[0]\n",
    "    adata.obs_names = adata.obs_names.str.replace(r'_feature-extraction_merged', '', regex=True)\n",
    "    "
   ]
  },
  {
   "cell_type": "code",
   "execution_count": 41,
   "id": "f3988dbb",
   "metadata": {},
   "outputs": [],
   "source": [
    "adata_list[2].obs['imageid']=\"Case3-9\""
   ]
  },
  {
   "cell_type": "code",
   "execution_count": 43,
   "id": "2bef98a0",
   "metadata": {},
   "outputs": [
    {
     "data": {
      "text/plain": [
       "Case3-9_1         Case3-9\n",
       "Case3-9_2         Case3-9\n",
       "Case3-9_3         Case3-9\n",
       "Case3-9_4         Case3-9\n",
       "Case3-9_5         Case3-9\n",
       "                   ...   \n",
       "Case3-9_601477    Case3-9\n",
       "Case3-9_601478    Case3-9\n",
       "Case3-9_601479    Case3-9\n",
       "Case3-9_601480    Case3-9\n",
       "Case3-9_601481    Case3-9\n",
       "Name: imageid, Length: 601481, dtype: object"
      ]
     },
     "execution_count": 43,
     "metadata": {},
     "output_type": "execute_result"
    }
   ],
   "source": [
    "adata_list[2].obs['imageid']"
   ]
  },
  {
   "cell_type": "code",
   "execution_count": 64,
   "id": "93de4658",
   "metadata": {},
   "outputs": [
    {
     "name": "stdout",
     "output_type": "stream",
     "text": [
      "Adding ROI image for Case3-9\n",
      "image_path for Case3-9: /Volumes/FallahiLab/Maize-Data/People/Kim_Nguyen/AP-1_HetMel_analysis/20250707_9samples_cellstate/Case3-9/Case3-9_fullpanel_final.tif\n",
      "\n",
      "        Opening Napari;\n",
      "        Add shape layers (on left) to draw ROI's. \n",
      "        Rename the shape layer to give a name to your ROI\n",
      "        Multiple shape layers are supported\n",
      "        ROI's should not overlap\n",
      "        Close Napari to save ROI's.\n",
      "        \n"
     ]
    },
    {
     "name": "stderr",
     "output_type": "stream",
     "text": [
      "/Users/zqn7td/anaconda3/envs/scimap/lib/python3.10/site-packages/napari/_vispy/layers/image.py:251: UserWarning:\n",
      "\n",
      "data shape (22700, 25500) exceeds GL_MAX_TEXTURE_SIZE 16384 in at least one axis and will be downsampled. Rendering is currently in 2D mode.\n",
      "\n",
      "/Users/zqn7td/anaconda3/envs/scimap/lib/python3.10/site-packages/napari/_vispy/layers/image.py:251: UserWarning:\n",
      "\n",
      "data shape (22700, 25500) exceeds GL_MAX_TEXTURE_SIZE 16384 in at least one axis and will be downsampled. Rendering is currently in 2D mode.\n",
      "\n"
     ]
    },
    {
     "name": "stdout",
     "output_type": "stream",
     "text": [
      "Identifying cells within selected ROI's\n",
      "ROIs saved under adata.obs['ROI']\n",
      "ROI\n",
      "Tumor    504129\n",
      "Other     97352\n",
      "Name: count, dtype: int64\n",
      "Saving ROIs for Case3-9\n"
     ]
    }
   ],
   "source": [
    "for adata in adata_list[2:3]:\n",
    "    case_number= \"Case3-9\"\n",
    "    print(f\"Adding ROI image for {case_number}\")\n",
    "    image_search_pattern = os.path.join(project_dir, case_number, f'*{case_number}*fullpanel*tif')\n",
    "    image_files = glob.glob(image_search_pattern, recursive=True)\n",
    "    \n",
    "    if image_files:\n",
    "        image_path = image_files[0]\n",
    "        print(f\"image_path for {case_number}: {image_path}\")\n",
    "    else:\n",
    "        image_path = None\n",
    "        print(f\"No image found for {case_number}\")\n",
    "        \n",
    "    sm.pl.addROI_image(image_path, adata, markers=['Hoechst_1','MITF','SOX10','PRAME','NGFR','SOX9','cFOS','cJUN','CD45'])\n",
    "    print(adata.obs['ROI'].value_counts(dropna=False))\n",
    "    ROIs = adata.obs['ROI']\n",
    "    print(f\"Saving ROIs for {case_number}\")\n",
    "    ROIs.to_csv(os.path.join(project_dir, case_number,f'{case_number}_ROIs.csv'), index=True)"
   ]
  },
  {
   "cell_type": "markdown",
   "id": "722f7702",
   "metadata": {},
   "source": [
    "if you need to, load in ROI labels from csv"
   ]
  },
  {
   "cell_type": "code",
   "execution_count": 20,
   "id": "bf5e0776",
   "metadata": {},
   "outputs": [
    {
     "ename": "IndexError",
     "evalue": "list index out of range",
     "output_type": "error",
     "traceback": [
      "\u001b[0;31m---------------------------------------------------------------------------\u001b[0m",
      "\u001b[0;31mIndexError\u001b[0m                                Traceback (most recent call last)",
      "Cell \u001b[0;32mIn[20], line 3\u001b[0m\n\u001b[1;32m      1\u001b[0m \u001b[38;5;28;01mfor\u001b[39;00m adata \u001b[38;5;129;01min\u001b[39;00m adata_list:\n\u001b[1;32m      2\u001b[0m     case_number\u001b[38;5;241m=\u001b[39m\u001b[38;5;28mstr\u001b[39m(adata\u001b[38;5;241m.\u001b[39mobs[\u001b[38;5;124m'\u001b[39m\u001b[38;5;124mimageid\u001b[39m\u001b[38;5;124m'\u001b[39m]\u001b[38;5;241m.\u001b[39munique()[\u001b[38;5;241m0\u001b[39m])\n\u001b[0;32m----> 3\u001b[0m     ROI_path \u001b[38;5;241m=\u001b[39m \u001b[43mglob\u001b[49m\u001b[38;5;241;43m.\u001b[39;49m\u001b[43mglob\u001b[49m\u001b[43m(\u001b[49m\u001b[43mos\u001b[49m\u001b[38;5;241;43m.\u001b[39;49m\u001b[43mpath\u001b[49m\u001b[38;5;241;43m.\u001b[39;49m\u001b[43mjoin\u001b[49m\u001b[43m(\u001b[49m\u001b[43mproject_dir\u001b[49m\u001b[43m,\u001b[49m\u001b[43m \u001b[49m\u001b[43mcase_number\u001b[49m\u001b[43m,\u001b[49m\u001b[43m \u001b[49m\u001b[38;5;124;43m'\u001b[39;49m\u001b[38;5;124;43m*ROIs.csv\u001b[39;49m\u001b[38;5;124;43m'\u001b[39;49m\u001b[43m)\u001b[49m\u001b[43m)\u001b[49m\u001b[43m[\u001b[49m\u001b[38;5;241;43m0\u001b[39;49m\u001b[43m]\u001b[49m\n\u001b[1;32m      4\u001b[0m     ROIs\u001b[38;5;241m=\u001b[39m pd\u001b[38;5;241m.\u001b[39mread_csv(ROI_path, index_col\u001b[38;5;241m=\u001b[39m\u001b[38;5;241m0\u001b[39m)\n\u001b[1;32m      5\u001b[0m     adata\u001b[38;5;241m.\u001b[39mobs[\u001b[38;5;124m'\u001b[39m\u001b[38;5;124mROI\u001b[39m\u001b[38;5;124m'\u001b[39m] \u001b[38;5;241m=\u001b[39m ROIs\n",
      "\u001b[0;31mIndexError\u001b[0m: list index out of range"
     ]
    }
   ],
   "source": [
    "for adata in adata_list:\n",
    "    case_number=str(adata.obs['imageid'].unique()[0])\n",
    "    ROI_path = glob.glob(os.path.join(project_dir, case_number, '*ROIs.csv'))[0]\n",
    "    ROIs= pd.read_csv(ROI_path, index_col=0)\n",
    "    adata.obs['ROI'] = ROIs"
   ]
  },
  {
   "cell_type": "code",
   "execution_count": 48,
   "id": "4c39991a",
   "metadata": {},
   "outputs": [
    {
     "data": {
      "text/plain": [
       "[AnnData object with n_obs × n_vars = 33720 × 17\n",
       "     obs: 'X_centroid', 'Y_centroid', 'Area', 'MajorAxisLength', 'MinorAxisLength', 'Eccentricity', 'Solidity', 'Extent', 'Orientation', 'CellID', 'imageid', 'TissueID', 'ROI', 'phenotype', 'phenotype_category'\n",
       "     uns: 'all_markers', 'gates'\n",
       "     layers: 'log', 'log1p_raw', 'log_background_normalized', 'log_background_normalized_zeroed',\n",
       " AnnData object with n_obs × n_vars = 674801 × 17\n",
       "     obs: 'X_centroid', 'Y_centroid', 'Area', 'MajorAxisLength', 'MinorAxisLength', 'Eccentricity', 'Solidity', 'Extent', 'Orientation', 'CellID', 'imageid', 'TissueID', 'ROI', 'phenotype', 'phenotype_category'\n",
       "     uns: 'all_markers', 'gates'\n",
       "     layers: 'log', 'log1p_raw', 'log_background_normalized', 'log_background_normalized_zeroed',\n",
       " AnnData object with n_obs × n_vars = 61028 × 17\n",
       "     obs: 'X_centroid', 'Y_centroid', 'Area', 'MajorAxisLength', 'MinorAxisLength', 'Eccentricity', 'Solidity', 'Extent', 'Orientation', 'CellID', 'imageid', 'TissueID', 'ROI', 'phenotype', 'phenotype_category'\n",
       "     uns: 'all_markers', 'gates'\n",
       "     layers: 'log', 'log1p_raw', 'log_background_normalized', 'log_background_normalized_zeroed',\n",
       " AnnData object with n_obs × n_vars = 54005 × 17\n",
       "     obs: 'X_centroid', 'Y_centroid', 'Area', 'MajorAxisLength', 'MinorAxisLength', 'Eccentricity', 'Solidity', 'Extent', 'Orientation', 'CellID', 'imageid', 'TissueID', 'ROI', 'phenotype', 'phenotype_category'\n",
       "     uns: 'all_markers', 'gates'\n",
       "     layers: 'log', 'log1p_raw', 'log_background_normalized', 'log_background_normalized_zeroed',\n",
       " AnnData object with n_obs × n_vars = 259610 × 17\n",
       "     obs: 'X_centroid', 'Y_centroid', 'Area', 'MajorAxisLength', 'MinorAxisLength', 'Eccentricity', 'Solidity', 'Extent', 'Orientation', 'CellID', 'imageid', 'TissueID', 'ROI', 'phenotype', 'phenotype_category'\n",
       "     uns: 'all_markers', 'gates'\n",
       "     layers: 'log', 'log1p_raw', 'log_background_normalized', 'log_background_normalized_zeroed',\n",
       " AnnData object with n_obs × n_vars = 430818 × 17\n",
       "     obs: 'X_centroid', 'Y_centroid', 'Area', 'MajorAxisLength', 'MinorAxisLength', 'Eccentricity', 'Solidity', 'Extent', 'Orientation', 'CellID', 'imageid', 'TissueID', 'ROI', 'phenotype', 'phenotype_category'\n",
       "     uns: 'all_markers', 'gates'\n",
       "     layers: 'log', 'log1p_raw', 'log_background_normalized', 'log_background_normalized_zeroed',\n",
       " AnnData object with n_obs × n_vars = 145405 × 17\n",
       "     obs: 'X_centroid', 'Y_centroid', 'Area', 'MajorAxisLength', 'MinorAxisLength', 'Eccentricity', 'Solidity', 'Extent', 'Orientation', 'CellID', 'imageid', 'TissueID', 'ROI', 'phenotype', 'phenotype_category'\n",
       "     uns: 'all_markers', 'gates'\n",
       "     layers: 'log', 'log1p_raw', 'log_background_normalized', 'log_background_normalized_zeroed',\n",
       " AnnData object with n_obs × n_vars = 160575 × 17\n",
       "     obs: 'X_centroid', 'Y_centroid', 'Area', 'MajorAxisLength', 'MinorAxisLength', 'Eccentricity', 'Solidity', 'Extent', 'Orientation', 'CellID', 'imageid', 'TissueID', 'ROI', 'phenotype', 'phenotype_category'\n",
       "     uns: 'all_markers', 'gates'\n",
       "     layers: 'log', 'log1p_raw', 'log_background_normalized', 'log_background_normalized_zeroed',\n",
       " AnnData object with n_obs × n_vars = 64321 × 17\n",
       "     obs: 'X_centroid', 'Y_centroid', 'Area', 'MajorAxisLength', 'MinorAxisLength', 'Eccentricity', 'Solidity', 'Extent', 'Orientation', 'CellID', 'imageid', 'TissueID', 'ROI', 'phenotype', 'phenotype_category'\n",
       "     uns: 'all_markers', 'gates'\n",
       "     layers: 'log', 'log1p_raw', 'log_background_normalized', 'log_background_normalized_zeroed',\n",
       " AnnData object with n_obs × n_vars = 80274 × 17\n",
       "     obs: 'X_centroid', 'Y_centroid', 'Area', 'MajorAxisLength', 'MinorAxisLength', 'Eccentricity', 'Solidity', 'Extent', 'Orientation', 'CellID', 'imageid', 'TissueID', 'ROI', 'phenotype', 'phenotype_category'\n",
       "     uns: 'all_markers', 'gates'\n",
       "     layers: 'log', 'log1p_raw', 'log_background_normalized', 'log_background_normalized_zeroed',\n",
       " AnnData object with n_obs × n_vars = 52710 × 17\n",
       "     obs: 'X_centroid', 'Y_centroid', 'Area', 'MajorAxisLength', 'MinorAxisLength', 'Eccentricity', 'Solidity', 'Extent', 'Orientation', 'CellID', 'imageid', 'TissueID', 'ROI', 'phenotype', 'phenotype_category'\n",
       "     uns: 'all_markers', 'gates'\n",
       "     layers: 'log', 'log1p_raw', 'log_background_normalized', 'log_background_normalized_zeroed']"
      ]
     },
     "execution_count": 48,
     "metadata": {},
     "output_type": "execute_result"
    }
   ],
   "source": [
    "processed_adata_list"
   ]
  },
  {
   "cell_type": "code",
   "execution_count": 49,
   "id": "357f275a",
   "metadata": {},
   "outputs": [
    {
     "data": {
      "text/plain": [
       "[AnnData object with n_obs × n_vars = 33720 × 34\n",
       "     obs: 'X_centroid', 'Y_centroid', 'Area', 'MajorAxisLength', 'MinorAxisLength', 'Eccentricity', 'Solidity', 'Extent', 'Orientation', 'CellID', 'imageid', 'TissueID'\n",
       "     uns: 'all_markers'\n",
       "     layers: 'log', 'log1p_raw',\n",
       " AnnData object with n_obs × n_vars = 674801 × 34\n",
       "     obs: 'X_centroid', 'Y_centroid', 'Area', 'MajorAxisLength', 'MinorAxisLength', 'Eccentricity', 'Solidity', 'Extent', 'Orientation', 'CellID', 'imageid', 'TissueID'\n",
       "     uns: 'all_markers'\n",
       "     layers: 'log', 'log1p_raw',\n",
       " AnnData object with n_obs × n_vars = 601481 × 34\n",
       "     obs: 'X_centroid', 'Y_centroid', 'Area', 'MajorAxisLength', 'MinorAxisLength', 'Eccentricity', 'Solidity', 'Extent', 'Orientation', 'CellID', 'imageid', 'TissueID', 'ROI'\n",
       "     uns: 'all_markers'\n",
       "     layers: 'log', 'log1p_raw',\n",
       " AnnData object with n_obs × n_vars = 61028 × 34\n",
       "     obs: 'X_centroid', 'Y_centroid', 'Area', 'MajorAxisLength', 'MinorAxisLength', 'Eccentricity', 'Solidity', 'Extent', 'Orientation', 'CellID', 'imageid', 'TissueID'\n",
       "     uns: 'all_markers'\n",
       "     layers: 'log', 'log1p_raw',\n",
       " AnnData object with n_obs × n_vars = 54005 × 34\n",
       "     obs: 'X_centroid', 'Y_centroid', 'Area', 'MajorAxisLength', 'MinorAxisLength', 'Eccentricity', 'Solidity', 'Extent', 'Orientation', 'CellID', 'imageid', 'TissueID'\n",
       "     uns: 'all_markers'\n",
       "     layers: 'log', 'log1p_raw',\n",
       " AnnData object with n_obs × n_vars = 259610 × 34\n",
       "     obs: 'X_centroid', 'Y_centroid', 'Area', 'MajorAxisLength', 'MinorAxisLength', 'Eccentricity', 'Solidity', 'Extent', 'Orientation', 'CellID', 'imageid', 'TissueID'\n",
       "     uns: 'all_markers'\n",
       "     layers: 'log', 'log1p_raw',\n",
       " AnnData object with n_obs × n_vars = 430818 × 34\n",
       "     obs: 'X_centroid', 'Y_centroid', 'Area', 'MajorAxisLength', 'MinorAxisLength', 'Eccentricity', 'Solidity', 'Extent', 'Orientation', 'CellID', 'imageid', 'TissueID'\n",
       "     uns: 'all_markers'\n",
       "     layers: 'log', 'log1p_raw',\n",
       " AnnData object with n_obs × n_vars = 145405 × 34\n",
       "     obs: 'X_centroid', 'Y_centroid', 'Area', 'MajorAxisLength', 'MinorAxisLength', 'Eccentricity', 'Solidity', 'Extent', 'Orientation', 'CellID', 'imageid', 'TissueID'\n",
       "     uns: 'all_markers'\n",
       "     layers: 'log', 'log1p_raw',\n",
       " AnnData object with n_obs × n_vars = 160575 × 34\n",
       "     obs: 'X_centroid', 'Y_centroid', 'Area', 'MajorAxisLength', 'MinorAxisLength', 'Eccentricity', 'Solidity', 'Extent', 'Orientation', 'CellID', 'imageid', 'TissueID'\n",
       "     uns: 'all_markers'\n",
       "     layers: 'log', 'log1p_raw',\n",
       " AnnData object with n_obs × n_vars = 64321 × 34\n",
       "     obs: 'X_centroid', 'Y_centroid', 'Area', 'MajorAxisLength', 'MinorAxisLength', 'Eccentricity', 'Solidity', 'Extent', 'Orientation', 'CellID', 'imageid', 'TissueID'\n",
       "     uns: 'all_markers'\n",
       "     layers: 'log', 'log1p_raw',\n",
       " AnnData object with n_obs × n_vars = 80274 × 34\n",
       "     obs: 'X_centroid', 'Y_centroid', 'Area', 'MajorAxisLength', 'MinorAxisLength', 'Eccentricity', 'Solidity', 'Extent', 'Orientation', 'CellID', 'imageid', 'TissueID'\n",
       "     uns: 'all_markers'\n",
       "     layers: 'log', 'log1p_raw',\n",
       " AnnData object with n_obs × n_vars = 52710 × 34\n",
       "     obs: 'X_centroid', 'Y_centroid', 'Area', 'MajorAxisLength', 'MinorAxisLength', 'Eccentricity', 'Solidity', 'Extent', 'Orientation', 'CellID', 'imageid', 'TissueID'\n",
       "     uns: 'all_markers'\n",
       "     layers: 'log', 'log1p_raw']"
      ]
     },
     "execution_count": 49,
     "metadata": {},
     "output_type": "execute_result"
    }
   ],
   "source": [
    "adata_list"
   ]
  },
  {
   "cell_type": "code",
   "execution_count": 66,
   "id": "10ec1417",
   "metadata": {},
   "outputs": [
    {
     "name": "stdout",
     "output_type": "stream",
     "text": [
      "Saving ROIs for Case1-31\n",
      "Saving ROIs for Case2-8\n",
      "Saving ROIs for Case4-5_R1\n",
      "Saving ROIs for Case4-5_R2\n",
      "Saving ROIs for Case7-10\n",
      "Saving ROIs for Case8-9_R1\n",
      "Saving ROIs for Case8-9_R2\n",
      "Saving ROIs for Case9-7_R2\n",
      "Saving ROIs for Case10-3_R1\n",
      "Saving ROIs for Case10-3_R2\n",
      "Saving ROIs for Case11-13\n"
     ]
    }
   ],
   "source": [
    "for case_number, adata in zip(case_numbers, processed_adata_list):\n",
    "    ROIs = adata.obs['ROI']\n",
    "    print(f\"Saving ROIs for {case_number}\")\n",
    "    ROIs.to_csv(os.path.join(project_dir, case_number,f'{case_number}_ROIs.csv'), index=True)"
   ]
  },
  {
   "cell_type": "code",
   "execution_count": 54,
   "id": "6ee94663",
   "metadata": {},
   "outputs": [
    {
     "data": {
      "text/plain": [
       "12"
      ]
     },
     "execution_count": 54,
     "metadata": {},
     "output_type": "execute_result"
    }
   ],
   "source": [
    "len(adata_list)"
   ]
  },
  {
   "cell_type": "code",
   "execution_count": 68,
   "id": "4328a2ae",
   "metadata": {},
   "outputs": [],
   "source": [
    "for case_number, adata in zip(case_numbers, adata_list):\n",
    "    \n",
    "    ROIs= pd.read_csv(os.path.join(project_dir, case_number,f'{case_number}_ROIs.csv'), index_col=0)\n",
    "    adata.obs['ROI'] = ROIs"
   ]
  },
  {
   "cell_type": "code",
   "execution_count": 70,
   "id": "7ff4851d",
   "metadata": {},
   "outputs": [
    {
     "data": {
      "text/plain": [
       "ROI\n",
       "Tumor    504129\n",
       "Other     97352\n",
       "Name: count, dtype: int64"
      ]
     },
     "execution_count": 70,
     "metadata": {},
     "output_type": "execute_result"
    }
   ],
   "source": [
    "adata_list[2].obs['ROI'].value_counts()"
   ]
  },
  {
   "cell_type": "code",
   "execution_count": 81,
   "id": "f3bb1696",
   "metadata": {},
   "outputs": [
    {
     "name": "stdout",
     "output_type": "stream",
     "text": [
      "Found for Case1-31: /Volumes/FallahiLab/Maize-Data/People/Kim_Nguyen/AP-1_HetMel_analysis/20250707_9samples_cellstate/Case1-31/Case1-31_full_gates.csv\n",
      "Found for Case2-8: /Volumes/FallahiLab/Maize-Data/People/Kim_Nguyen/AP-1_HetMel_analysis/20250707_9samples_cellstate/Case2-8/Case2-8_full_gates.csv\n",
      "Found for Case3-9: /Volumes/FallahiLab/Maize-Data/People/Kim_Nguyen/AP-1_HetMel_analysis/20250707_9samples_cellstate/Case3-9/Case3-9_full_gates.csv\n",
      "Found for Case4-5_R1: /Volumes/FallahiLab/Maize-Data/People/Kim_Nguyen/AP-1_HetMel_analysis/20250707_9samples_cellstate/Case4-5_R1/Case4-5_R1_full_gates.csv\n",
      "Found for Case4-5_R2: /Volumes/FallahiLab/Maize-Data/People/Kim_Nguyen/AP-1_HetMel_analysis/20250707_9samples_cellstate/Case4-5_R2/Case4-5_R2_full_gates.csv\n",
      "Found for Case7-10: /Volumes/FallahiLab/Maize-Data/People/Kim_Nguyen/AP-1_HetMel_analysis/20250707_9samples_cellstate/Case7-10/Case7-10_full_gates.csv\n",
      "Found for Case8-9_R1: /Volumes/FallahiLab/Maize-Data/People/Kim_Nguyen/AP-1_HetMel_analysis/20250707_9samples_cellstate/Case8-9_R1/Case8-9_R1_full_gates.csv\n",
      "Found for Case8-9_R2: /Volumes/FallahiLab/Maize-Data/People/Kim_Nguyen/AP-1_HetMel_analysis/20250707_9samples_cellstate/Case8-9_R2/Case8-9_R2_full_gates.csv\n",
      "Found for Case9-7_R2: /Volumes/FallahiLab/Maize-Data/People/Kim_Nguyen/AP-1_HetMel_analysis/20250707_9samples_cellstate/Case9-7_R2/Case9-7_R2_full_gates.csv\n",
      "Found for Case10-3_R1: /Volumes/FallahiLab/Maize-Data/People/Kim_Nguyen/AP-1_HetMel_analysis/20250707_9samples_cellstate/Case10-3_R1/Case10-3_R1_full_gates.csv\n",
      "Found for Case10-3_R2: /Volumes/FallahiLab/Maize-Data/People/Kim_Nguyen/AP-1_HetMel_analysis/20250707_9samples_cellstate/Case10-3_R2/Case10-3_R2_full_gates.csv\n",
      "Found for Case11-13: /Volumes/FallahiLab/Maize-Data/People/Kim_Nguyen/AP-1_HetMel_analysis/20250707_9samples_cellstate/Case11-13/Case11-13_full_gates.csv\n"
     ]
    }
   ],
   "source": [
    "\n",
    "gate_file_paths = {}\n",
    "\n",
    "for case_number in case_numbers:\n",
    "    # Search for gates.csv inside the case-specific subdirectory\n",
    "    search_path = os.path.join(project_dir, case_number, '*gates.csv')\n",
    "    matches = glob.glob(search_path)\n",
    "    if matches:\n",
    "        gate_file_paths[case_number] = matches[0]  # Take the first match\n",
    "        print(f\"Found for {case_number}: {matches[0]}\")\n",
    "    else:\n",
    "        gate_file_paths[case_number] = None\n",
    "        print(f\"No gates.csv file found for {case_number}\")"
   ]
  },
  {
   "cell_type": "code",
   "execution_count": 85,
   "id": "9460c3ed",
   "metadata": {},
   "outputs": [
    {
     "name": "stdout",
     "output_type": "stream",
     "text": [
      "Copying gates from /Volumes/FallahiLab/Maize-Data/People/Kim_Nguyen/AP-1_HetMel_analysis/20250707_9samples_cellstate/Case1-31/Case1-31_full_gates.csv\n",
      "Copying gates from /Volumes/FallahiLab/Maize-Data/People/Kim_Nguyen/AP-1_HetMel_analysis/20250707_9samples_cellstate/Case2-8/Case2-8_full_gates.csv\n",
      "Copying gates from /Volumes/FallahiLab/Maize-Data/People/Kim_Nguyen/AP-1_HetMel_analysis/20250707_9samples_cellstate/Case3-9/Case3-9_full_gates.csv\n",
      "Copying gates from /Volumes/FallahiLab/Maize-Data/People/Kim_Nguyen/AP-1_HetMel_analysis/20250707_9samples_cellstate/Case4-5_R1/Case4-5_R1_full_gates.csv\n",
      "Copying gates from /Volumes/FallahiLab/Maize-Data/People/Kim_Nguyen/AP-1_HetMel_analysis/20250707_9samples_cellstate/Case4-5_R2/Case4-5_R2_full_gates.csv\n",
      "Copying gates from /Volumes/FallahiLab/Maize-Data/People/Kim_Nguyen/AP-1_HetMel_analysis/20250707_9samples_cellstate/Case7-10/Case7-10_full_gates.csv\n",
      "Copying gates from /Volumes/FallahiLab/Maize-Data/People/Kim_Nguyen/AP-1_HetMel_analysis/20250707_9samples_cellstate/Case8-9_R1/Case8-9_R1_full_gates.csv\n",
      "Copying gates from /Volumes/FallahiLab/Maize-Data/People/Kim_Nguyen/AP-1_HetMel_analysis/20250707_9samples_cellstate/Case8-9_R2/Case8-9_R2_full_gates.csv\n",
      "Copying gates from /Volumes/FallahiLab/Maize-Data/People/Kim_Nguyen/AP-1_HetMel_analysis/20250707_9samples_cellstate/Case9-7_R2/Case9-7_R2_full_gates.csv\n",
      "Copying gates from /Volumes/FallahiLab/Maize-Data/People/Kim_Nguyen/AP-1_HetMel_analysis/20250707_9samples_cellstate/Case10-3_R1/Case10-3_R1_full_gates.csv\n",
      "Copying gates from /Volumes/FallahiLab/Maize-Data/People/Kim_Nguyen/AP-1_HetMel_analysis/20250707_9samples_cellstate/Case10-3_R2/Case10-3_R2_full_gates.csv\n",
      "Copying gates from /Volumes/FallahiLab/Maize-Data/People/Kim_Nguyen/AP-1_HetMel_analysis/20250707_9samples_cellstate/Case11-13/Case11-13_full_gates.csv\n"
     ]
    }
   ],
   "source": [
    "for case_number,adata in zip(case_numbers,adata_list):\n",
    "    print(f\"Copying gates from {gate_file_paths[case_number]}\")\n",
    "    marker_gates = pd.read_csv(os.path.join( project_dir, case_number, f'{case_number}_full_gates.csv'),\n",
    "    header = [0], index_col =[0])\n",
    "    adata.uns['gates'] = marker_gates"
   ]
  },
  {
   "cell_type": "markdown",
   "id": "3754bd17",
   "metadata": {},
   "source": [
    "## Phenotyping"
   ]
  },
  {
   "cell_type": "code",
   "execution_count": 89,
   "id": "ae6ec44b",
   "metadata": {},
   "outputs": [
    {
     "data": {
      "text/html": [
       "<div>\n",
       "<style scoped>\n",
       "    .dataframe tbody tr th:only-of-type {\n",
       "        vertical-align: middle;\n",
       "    }\n",
       "\n",
       "    .dataframe tbody tr th {\n",
       "        vertical-align: top;\n",
       "    }\n",
       "\n",
       "    .dataframe thead th {\n",
       "        text-align: right;\n",
       "    }\n",
       "</style>\n",
       "<table border=\"1\" class=\"dataframe\">\n",
       "  <thead>\n",
       "    <tr style=\"text-align: right;\">\n",
       "      <th></th>\n",
       "      <th>Case2-8</th>\n",
       "    </tr>\n",
       "  </thead>\n",
       "  <tbody>\n",
       "    <tr>\n",
       "      <th>Hoechst_1</th>\n",
       "      <td>8.064459</td>\n",
       "    </tr>\n",
       "    <tr>\n",
       "      <th>PRAME</th>\n",
       "      <td>3.400000</td>\n",
       "    </tr>\n",
       "    <tr>\n",
       "      <th>MITF</th>\n",
       "      <td>3.280000</td>\n",
       "    </tr>\n",
       "    <tr>\n",
       "      <th>JUND</th>\n",
       "      <td>4.100000</td>\n",
       "    </tr>\n",
       "    <tr>\n",
       "      <th>SOX10</th>\n",
       "      <td>5.540000</td>\n",
       "    </tr>\n",
       "    <tr>\n",
       "      <th>cJUN</th>\n",
       "      <td>4.060000</td>\n",
       "    </tr>\n",
       "    <tr>\n",
       "      <th>cFOS</th>\n",
       "      <td>4.290000</td>\n",
       "    </tr>\n",
       "    <tr>\n",
       "      <th>NGFR</th>\n",
       "      <td>5.420000</td>\n",
       "    </tr>\n",
       "    <tr>\n",
       "      <th>SOX9</th>\n",
       "      <td>4.110000</td>\n",
       "    </tr>\n",
       "    <tr>\n",
       "      <th>Ki67</th>\n",
       "      <td>4.580000</td>\n",
       "    </tr>\n",
       "    <tr>\n",
       "      <th>CD45</th>\n",
       "      <td>3.850000</td>\n",
       "    </tr>\n",
       "    <tr>\n",
       "      <th>AXL</th>\n",
       "      <td>5.540000</td>\n",
       "    </tr>\n",
       "    <tr>\n",
       "      <th>FRA1</th>\n",
       "      <td>4.080000</td>\n",
       "    </tr>\n",
       "    <tr>\n",
       "      <th>Hoechst_6</th>\n",
       "      <td>7.748817</td>\n",
       "    </tr>\n",
       "    <tr>\n",
       "      <th>JUNB</th>\n",
       "      <td>3.920000</td>\n",
       "    </tr>\n",
       "    <tr>\n",
       "      <th>CD4</th>\n",
       "      <td>4.270000</td>\n",
       "    </tr>\n",
       "    <tr>\n",
       "      <th>pancK</th>\n",
       "      <td>3.700000</td>\n",
       "    </tr>\n",
       "    <tr>\n",
       "      <th>FRA2</th>\n",
       "      <td>4.370000</td>\n",
       "    </tr>\n",
       "    <tr>\n",
       "      <th>CD163</th>\n",
       "      <td>4.700000</td>\n",
       "    </tr>\n",
       "    <tr>\n",
       "      <th>alphaSMA</th>\n",
       "      <td>5.400000</td>\n",
       "    </tr>\n",
       "    <tr>\n",
       "      <th>CD8</th>\n",
       "      <td>4.500000</td>\n",
       "    </tr>\n",
       "    <tr>\n",
       "      <th>CD19</th>\n",
       "      <td>5.000000</td>\n",
       "    </tr>\n",
       "    <tr>\n",
       "      <th>FAP</th>\n",
       "      <td>4.800000</td>\n",
       "    </tr>\n",
       "    <tr>\n",
       "      <th>Hoechst_11</th>\n",
       "      <td>7.184035</td>\n",
       "    </tr>\n",
       "    <tr>\n",
       "      <th>CD31</th>\n",
       "      <td>4.190000</td>\n",
       "    </tr>\n",
       "    <tr>\n",
       "      <th>PDGFRBeta</th>\n",
       "      <td>4.770000</td>\n",
       "    </tr>\n",
       "    <tr>\n",
       "      <th>pSTAT1</th>\n",
       "      <td>3.100000</td>\n",
       "    </tr>\n",
       "    <tr>\n",
       "      <th>FOXP3</th>\n",
       "      <td>3.400000</td>\n",
       "    </tr>\n",
       "    <tr>\n",
       "      <th>CD68</th>\n",
       "      <td>3.860000</td>\n",
       "    </tr>\n",
       "    <tr>\n",
       "      <th>BRAFV600E</th>\n",
       "      <td>3.000000</td>\n",
       "    </tr>\n",
       "    <tr>\n",
       "      <th>phospho-p38</th>\n",
       "      <td>3.800000</td>\n",
       "    </tr>\n",
       "    <tr>\n",
       "      <th>Hoechst_16</th>\n",
       "      <td>7.243353</td>\n",
       "    </tr>\n",
       "    <tr>\n",
       "      <th>anti-Melanoma</th>\n",
       "      <td>3.700000</td>\n",
       "    </tr>\n",
       "    <tr>\n",
       "      <th>phospho-p44</th>\n",
       "      <td>3.598862</td>\n",
       "    </tr>\n",
       "  </tbody>\n",
       "</table>\n",
       "</div>"
      ],
      "text/plain": [
       "                Case2-8\n",
       "Hoechst_1      8.064459\n",
       "PRAME          3.400000\n",
       "MITF           3.280000\n",
       "JUND           4.100000\n",
       "SOX10          5.540000\n",
       "cJUN           4.060000\n",
       "cFOS           4.290000\n",
       "NGFR           5.420000\n",
       "SOX9           4.110000\n",
       "Ki67           4.580000\n",
       "CD45           3.850000\n",
       "AXL            5.540000\n",
       "FRA1           4.080000\n",
       "Hoechst_6      7.748817\n",
       "JUNB           3.920000\n",
       "CD4            4.270000\n",
       "pancK          3.700000\n",
       "FRA2           4.370000\n",
       "CD163          4.700000\n",
       "alphaSMA       5.400000\n",
       "CD8            4.500000\n",
       "CD19           5.000000\n",
       "FAP            4.800000\n",
       "Hoechst_11     7.184035\n",
       "CD31           4.190000\n",
       "PDGFRBeta      4.770000\n",
       "pSTAT1         3.100000\n",
       "FOXP3          3.400000\n",
       "CD68           3.860000\n",
       "BRAFV600E      3.000000\n",
       "phospho-p38    3.800000\n",
       "Hoechst_16     7.243353\n",
       "anti-Melanoma  3.700000\n",
       "phospho-p44    3.598862"
      ]
     },
     "execution_count": 89,
     "metadata": {},
     "output_type": "execute_result"
    }
   ],
   "source": [
    "adata_list[1].uns['gates']"
   ]
  },
  {
   "cell_type": "markdown",
   "id": "3db5182c",
   "metadata": {},
   "source": [
    "Loop through adata list, rescale data according to gates, and run phenotyping. Data is shifted so the gate is the new 0; positive values will be phenotyped as positive and negative values will be phenotyped as negative. If it's running into an error where it can't find gates, check adata.uns['gates']. Column name for the gates should match imageid"
   ]
  },
  {
   "cell_type": "code",
   "execution_count": 99,
   "id": "d782f9ba",
   "metadata": {},
   "outputs": [],
   "source": [
    "for adata in adata_list:\n",
    "    adata.obs['imageid']=adata.obs['imageid'].str.split('_').str[0]"
   ]
  },
  {
   "cell_type": "code",
   "execution_count": 100,
   "id": "6b0f69ed",
   "metadata": {},
   "outputs": [
    {
     "data": {
      "text/plain": [
       "Case1-31_1        Case1-31\n",
       "Case1-31_2        Case1-31\n",
       "Case1-31_3        Case1-31\n",
       "Case1-31_4        Case1-31\n",
       "Case1-31_5        Case1-31\n",
       "                    ...   \n",
       "Case1-31_33716    Case1-31\n",
       "Case1-31_33717    Case1-31\n",
       "Case1-31_33718    Case1-31\n",
       "Case1-31_33719    Case1-31\n",
       "Case1-31_33720    Case1-31\n",
       "Name: imageid, Length: 33720, dtype: object"
      ]
     },
     "execution_count": 100,
     "metadata": {},
     "output_type": "execute_result"
    }
   ],
   "source": [
    "adata_list[0].obs['imageid']"
   ]
  },
  {
   "cell_type": "code",
   "execution_count": 103,
   "id": "5f853852",
   "metadata": {},
   "outputs": [
    {
     "data": {
      "text/plain": [
       "[AnnData object with n_obs × n_vars = 33720 × 34\n",
       "     obs: 'X_centroid', 'Y_centroid', 'Area', 'MajorAxisLength', 'MinorAxisLength', 'Eccentricity', 'Solidity', 'Extent', 'Orientation', 'CellID', 'imageid', 'TissueID', 'ROI'\n",
       "     uns: 'all_markers', 'gates'\n",
       "     layers: 'log', 'log1p_raw',\n",
       " AnnData object with n_obs × n_vars = 674801 × 34\n",
       "     obs: 'X_centroid', 'Y_centroid', 'Area', 'MajorAxisLength', 'MinorAxisLength', 'Eccentricity', 'Solidity', 'Extent', 'Orientation', 'CellID', 'imageid', 'TissueID', 'ROI'\n",
       "     uns: 'all_markers', 'gates'\n",
       "     layers: 'log', 'log1p_raw',\n",
       " AnnData object with n_obs × n_vars = 601481 × 34\n",
       "     obs: 'X_centroid', 'Y_centroid', 'Area', 'MajorAxisLength', 'MinorAxisLength', 'Eccentricity', 'Solidity', 'Extent', 'Orientation', 'CellID', 'imageid', 'TissueID', 'ROI'\n",
       "     uns: 'all_markers', 'gates'\n",
       "     layers: 'log', 'log1p_raw',\n",
       " AnnData object with n_obs × n_vars = 61028 × 34\n",
       "     obs: 'X_centroid', 'Y_centroid', 'Area', 'MajorAxisLength', 'MinorAxisLength', 'Eccentricity', 'Solidity', 'Extent', 'Orientation', 'CellID', 'imageid', 'TissueID', 'ROI'\n",
       "     uns: 'all_markers', 'gates'\n",
       "     layers: 'log', 'log1p_raw',\n",
       " AnnData object with n_obs × n_vars = 54005 × 34\n",
       "     obs: 'X_centroid', 'Y_centroid', 'Area', 'MajorAxisLength', 'MinorAxisLength', 'Eccentricity', 'Solidity', 'Extent', 'Orientation', 'CellID', 'imageid', 'TissueID', 'ROI'\n",
       "     uns: 'all_markers', 'gates'\n",
       "     layers: 'log', 'log1p_raw',\n",
       " AnnData object with n_obs × n_vars = 259610 × 34\n",
       "     obs: 'X_centroid', 'Y_centroid', 'Area', 'MajorAxisLength', 'MinorAxisLength', 'Eccentricity', 'Solidity', 'Extent', 'Orientation', 'CellID', 'imageid', 'TissueID', 'ROI'\n",
       "     uns: 'all_markers', 'gates'\n",
       "     layers: 'log', 'log1p_raw',\n",
       " AnnData object with n_obs × n_vars = 430818 × 34\n",
       "     obs: 'X_centroid', 'Y_centroid', 'Area', 'MajorAxisLength', 'MinorAxisLength', 'Eccentricity', 'Solidity', 'Extent', 'Orientation', 'CellID', 'imageid', 'TissueID', 'ROI'\n",
       "     uns: 'all_markers', 'gates'\n",
       "     layers: 'log', 'log1p_raw',\n",
       " AnnData object with n_obs × n_vars = 145405 × 34\n",
       "     obs: 'X_centroid', 'Y_centroid', 'Area', 'MajorAxisLength', 'MinorAxisLength', 'Eccentricity', 'Solidity', 'Extent', 'Orientation', 'CellID', 'imageid', 'TissueID', 'ROI'\n",
       "     uns: 'all_markers', 'gates'\n",
       "     layers: 'log', 'log1p_raw',\n",
       " AnnData object with n_obs × n_vars = 160575 × 34\n",
       "     obs: 'X_centroid', 'Y_centroid', 'Area', 'MajorAxisLength', 'MinorAxisLength', 'Eccentricity', 'Solidity', 'Extent', 'Orientation', 'CellID', 'imageid', 'TissueID', 'ROI'\n",
       "     uns: 'all_markers', 'gates'\n",
       "     layers: 'log', 'log1p_raw',\n",
       " AnnData object with n_obs × n_vars = 64321 × 34\n",
       "     obs: 'X_centroid', 'Y_centroid', 'Area', 'MajorAxisLength', 'MinorAxisLength', 'Eccentricity', 'Solidity', 'Extent', 'Orientation', 'CellID', 'imageid', 'TissueID', 'ROI'\n",
       "     uns: 'all_markers', 'gates'\n",
       "     layers: 'log', 'log1p_raw',\n",
       " AnnData object with n_obs × n_vars = 80274 × 34\n",
       "     obs: 'X_centroid', 'Y_centroid', 'Area', 'MajorAxisLength', 'MinorAxisLength', 'Eccentricity', 'Solidity', 'Extent', 'Orientation', 'CellID', 'imageid', 'TissueID', 'ROI'\n",
       "     uns: 'all_markers', 'gates'\n",
       "     layers: 'log', 'log1p_raw',\n",
       " AnnData object with n_obs × n_vars = 52710 × 34\n",
       "     obs: 'X_centroid', 'Y_centroid', 'Area', 'MajorAxisLength', 'MinorAxisLength', 'Eccentricity', 'Solidity', 'Extent', 'Orientation', 'CellID', 'imageid', 'TissueID', 'ROI'\n",
       "     uns: 'all_markers', 'gates'\n",
       "     layers: 'log', 'log1p_raw']"
      ]
     },
     "execution_count": 103,
     "metadata": {},
     "output_type": "execute_result"
    }
   ],
   "source": [
    "adata_list"
   ]
  },
  {
   "cell_type": "code",
   "execution_count": 104,
   "id": "77042b5e",
   "metadata": {},
   "outputs": [
    {
     "name": "stderr",
     "output_type": "stream",
     "text": [
      "/var/folders/vb/f8_hhkls73qf5938jf5w6rk9dds1_2/T/ipykernel_80360/3835958844.py:10: FutureWarning:\n",
      "\n",
      "Downcasting object dtype arrays on .fillna, .ffill, .bfill is deprecated and will change in a future version. Call result.infer_objects(copy=False) instead. To opt-in to the future behavior, set `pd.set_option('future.no_silent_downcasting', True)`\n",
      "\n",
      "/var/folders/vb/f8_hhkls73qf5938jf5w6rk9dds1_2/T/ipykernel_80360/3835958844.py:10: FutureWarning:\n",
      "\n",
      "Downcasting object dtype arrays on .fillna, .ffill, .bfill is deprecated and will change in a future version. Call result.infer_objects(copy=False) instead. To opt-in to the future behavior, set `pd.set_option('future.no_silent_downcasting', True)`\n",
      "\n",
      "/var/folders/vb/f8_hhkls73qf5938jf5w6rk9dds1_2/T/ipykernel_80360/3835958844.py:10: FutureWarning:\n",
      "\n",
      "Downcasting object dtype arrays on .fillna, .ffill, .bfill is deprecated and will change in a future version. Call result.infer_objects(copy=False) instead. To opt-in to the future behavior, set `pd.set_option('future.no_silent_downcasting', True)`\n",
      "\n",
      "/var/folders/vb/f8_hhkls73qf5938jf5w6rk9dds1_2/T/ipykernel_80360/3835958844.py:10: FutureWarning:\n",
      "\n",
      "Downcasting object dtype arrays on .fillna, .ffill, .bfill is deprecated and will change in a future version. Call result.infer_objects(copy=False) instead. To opt-in to the future behavior, set `pd.set_option('future.no_silent_downcasting', True)`\n",
      "\n",
      "/var/folders/vb/f8_hhkls73qf5938jf5w6rk9dds1_2/T/ipykernel_80360/3835958844.py:10: FutureWarning:\n",
      "\n",
      "Downcasting object dtype arrays on .fillna, .ffill, .bfill is deprecated and will change in a future version. Call result.infer_objects(copy=False) instead. To opt-in to the future behavior, set `pd.set_option('future.no_silent_downcasting', True)`\n",
      "\n",
      "/var/folders/vb/f8_hhkls73qf5938jf5w6rk9dds1_2/T/ipykernel_80360/3835958844.py:10: FutureWarning:\n",
      "\n",
      "Downcasting object dtype arrays on .fillna, .ffill, .bfill is deprecated and will change in a future version. Call result.infer_objects(copy=False) instead. To opt-in to the future behavior, set `pd.set_option('future.no_silent_downcasting', True)`\n",
      "\n",
      "/var/folders/vb/f8_hhkls73qf5938jf5w6rk9dds1_2/T/ipykernel_80360/3835958844.py:10: FutureWarning:\n",
      "\n",
      "Downcasting object dtype arrays on .fillna, .ffill, .bfill is deprecated and will change in a future version. Call result.infer_objects(copy=False) instead. To opt-in to the future behavior, set `pd.set_option('future.no_silent_downcasting', True)`\n",
      "\n",
      "/var/folders/vb/f8_hhkls73qf5938jf5w6rk9dds1_2/T/ipykernel_80360/3835958844.py:10: FutureWarning:\n",
      "\n",
      "Downcasting object dtype arrays on .fillna, .ffill, .bfill is deprecated and will change in a future version. Call result.infer_objects(copy=False) instead. To opt-in to the future behavior, set `pd.set_option('future.no_silent_downcasting', True)`\n",
      "\n",
      "/var/folders/vb/f8_hhkls73qf5938jf5w6rk9dds1_2/T/ipykernel_80360/3835958844.py:10: FutureWarning:\n",
      "\n",
      "Downcasting object dtype arrays on .fillna, .ffill, .bfill is deprecated and will change in a future version. Call result.infer_objects(copy=False) instead. To opt-in to the future behavior, set `pd.set_option('future.no_silent_downcasting', True)`\n",
      "\n",
      "/var/folders/vb/f8_hhkls73qf5938jf5w6rk9dds1_2/T/ipykernel_80360/3835958844.py:10: FutureWarning:\n",
      "\n",
      "Downcasting object dtype arrays on .fillna, .ffill, .bfill is deprecated and will change in a future version. Call result.infer_objects(copy=False) instead. To opt-in to the future behavior, set `pd.set_option('future.no_silent_downcasting', True)`\n",
      "\n",
      "/var/folders/vb/f8_hhkls73qf5938jf5w6rk9dds1_2/T/ipykernel_80360/3835958844.py:10: FutureWarning:\n",
      "\n",
      "Downcasting object dtype arrays on .fillna, .ffill, .bfill is deprecated and will change in a future version. Call result.infer_objects(copy=False) instead. To opt-in to the future behavior, set `pd.set_option('future.no_silent_downcasting', True)`\n",
      "\n"
     ]
    }
   ],
   "source": [
    "for adata in adata_list:\n",
    "    # Replace NaN in expression matrix\n",
    "    if isinstance(adata.X, np.ndarray):\n",
    "        adata.X = np.nan_to_num(adata.X, nan=0)\n",
    "    else:\n",
    "        # if it's a sparse matrix\n",
    "        adata.X.data = np.nan_to_num(adata.X.data, nan=0)\n",
    "\n",
    "    # Replace NaN in adata.obs and adata.var\n",
    "    adata.obs = adata.obs.fillna(0)\n",
    "    adata.var = adata.var.fillna(0)"
   ]
  },
  {
   "cell_type": "code",
   "execution_count": 106,
   "id": "066d00c5",
   "metadata": {},
   "outputs": [
    {
     "name": "stdout",
     "output_type": "stream",
     "text": [
      "Index(['Hoechst_1', 'PRAME', 'MITF', 'JUND', 'SOX10', 'cJUN', 'cFOS', 'NGFR',\n",
      "       'SOX9', 'Ki67', 'CD45', 'AXL', 'FRA1', 'Hoechst_6', 'CD4', 'JUNB',\n",
      "       'pancK', 'FRA2', 'CD163', 'alphaSMA', 'CD8', 'CD19', 'Hoechst_11',\n",
      "       'CD31', 'PDGFRBeta', 'pSTAT1', 'FOXP3', 'CD68', 'BRAFV600E',\n",
      "       'phospho-p38', 'anti-Melanoma', 'phospho-p44', 'Hoechst_17', 'FAP'],\n",
      "      dtype='object')\n",
      "NaN count per marker: [0 0 0 0 0 0 0 0 0 0 0 0 0 0 0 0 0 0 0 0 0 0 0 0 0 0 0 0 0 0 0 0 0 0]\n"
     ]
    }
   ],
   "source": [
    "print(adata_list[0].var_names)\n",
    "print(\"NaN count per marker:\", np.isnan(adata_list[0].X).sum(axis=0))"
   ]
  },
  {
   "cell_type": "code",
   "execution_count": 107,
   "id": "b1cdb280",
   "metadata": {},
   "outputs": [
    {
     "data": {
      "text/html": [
       "<div>\n",
       "<style scoped>\n",
       "    .dataframe tbody tr th:only-of-type {\n",
       "        vertical-align: middle;\n",
       "    }\n",
       "\n",
       "    .dataframe tbody tr th {\n",
       "        vertical-align: top;\n",
       "    }\n",
       "\n",
       "    .dataframe thead th {\n",
       "        text-align: right;\n",
       "    }\n",
       "</style>\n",
       "<table border=\"1\" class=\"dataframe\">\n",
       "  <thead>\n",
       "    <tr style=\"text-align: right;\">\n",
       "      <th></th>\n",
       "      <th>markers</th>\n",
       "      <th>gates</th>\n",
       "    </tr>\n",
       "  </thead>\n",
       "  <tbody>\n",
       "    <tr>\n",
       "      <th>0</th>\n",
       "      <td>AXL</td>\n",
       "      <td>3.600000</td>\n",
       "    </tr>\n",
       "    <tr>\n",
       "      <th>1</th>\n",
       "      <td>CD4</td>\n",
       "      <td>3.900000</td>\n",
       "    </tr>\n",
       "    <tr>\n",
       "      <th>2</th>\n",
       "      <td>CD45</td>\n",
       "      <td>3.600000</td>\n",
       "    </tr>\n",
       "    <tr>\n",
       "      <th>3</th>\n",
       "      <td>FRA1</td>\n",
       "      <td>4.900000</td>\n",
       "    </tr>\n",
       "    <tr>\n",
       "      <th>4</th>\n",
       "      <td>FRA2</td>\n",
       "      <td>3.000000</td>\n",
       "    </tr>\n",
       "    <tr>\n",
       "      <th>5</th>\n",
       "      <td>Hoechst</td>\n",
       "      <td>5.000000</td>\n",
       "    </tr>\n",
       "    <tr>\n",
       "      <th>6</th>\n",
       "      <td>JUNB</td>\n",
       "      <td>2.900000</td>\n",
       "    </tr>\n",
       "    <tr>\n",
       "      <th>7</th>\n",
       "      <td>JUND</td>\n",
       "      <td>3.700000</td>\n",
       "    </tr>\n",
       "    <tr>\n",
       "      <th>8</th>\n",
       "      <td>Ki67</td>\n",
       "      <td>2.850000</td>\n",
       "    </tr>\n",
       "    <tr>\n",
       "      <th>9</th>\n",
       "      <td>MITF</td>\n",
       "      <td>4.300000</td>\n",
       "    </tr>\n",
       "    <tr>\n",
       "      <th>10</th>\n",
       "      <td>NGFR</td>\n",
       "      <td>6.500000</td>\n",
       "    </tr>\n",
       "    <tr>\n",
       "      <th>11</th>\n",
       "      <td>PRAME</td>\n",
       "      <td>2.860000</td>\n",
       "    </tr>\n",
       "    <tr>\n",
       "      <th>12</th>\n",
       "      <td>SOX10</td>\n",
       "      <td>4.600000</td>\n",
       "    </tr>\n",
       "    <tr>\n",
       "      <th>13</th>\n",
       "      <td>SOX9</td>\n",
       "      <td>4.200000</td>\n",
       "    </tr>\n",
       "    <tr>\n",
       "      <th>14</th>\n",
       "      <td>cFOS</td>\n",
       "      <td>3.900000</td>\n",
       "    </tr>\n",
       "    <tr>\n",
       "      <th>15</th>\n",
       "      <td>cJUN</td>\n",
       "      <td>2.900000</td>\n",
       "    </tr>\n",
       "    <tr>\n",
       "      <th>16</th>\n",
       "      <td>pancK</td>\n",
       "      <td>2.700000</td>\n",
       "    </tr>\n",
       "    <tr>\n",
       "      <th>17</th>\n",
       "      <td>CD163</td>\n",
       "      <td>4.760000</td>\n",
       "    </tr>\n",
       "    <tr>\n",
       "      <th>18</th>\n",
       "      <td>alphaSMA</td>\n",
       "      <td>3.400000</td>\n",
       "    </tr>\n",
       "    <tr>\n",
       "      <th>19</th>\n",
       "      <td>CD8</td>\n",
       "      <td>4.100000</td>\n",
       "    </tr>\n",
       "    <tr>\n",
       "      <th>20</th>\n",
       "      <td>CD19</td>\n",
       "      <td>5.080000</td>\n",
       "    </tr>\n",
       "    <tr>\n",
       "      <th>21</th>\n",
       "      <td>Hoechst_11</td>\n",
       "      <td>7.343920</td>\n",
       "    </tr>\n",
       "    <tr>\n",
       "      <th>22</th>\n",
       "      <td>CD31</td>\n",
       "      <td>4.100000</td>\n",
       "    </tr>\n",
       "    <tr>\n",
       "      <th>23</th>\n",
       "      <td>PDGFRBeta</td>\n",
       "      <td>4.860000</td>\n",
       "    </tr>\n",
       "    <tr>\n",
       "      <th>24</th>\n",
       "      <td>pSTAT1</td>\n",
       "      <td>3.480000</td>\n",
       "    </tr>\n",
       "    <tr>\n",
       "      <th>25</th>\n",
       "      <td>FOXP3</td>\n",
       "      <td>3.700000</td>\n",
       "    </tr>\n",
       "    <tr>\n",
       "      <th>26</th>\n",
       "      <td>CD68</td>\n",
       "      <td>3.400000</td>\n",
       "    </tr>\n",
       "    <tr>\n",
       "      <th>27</th>\n",
       "      <td>BRAFV600E</td>\n",
       "      <td>5.000000</td>\n",
       "    </tr>\n",
       "    <tr>\n",
       "      <th>28</th>\n",
       "      <td>phospho-p38</td>\n",
       "      <td>3.700000</td>\n",
       "    </tr>\n",
       "    <tr>\n",
       "      <th>29</th>\n",
       "      <td>anti-Melanoma</td>\n",
       "      <td>2.870000</td>\n",
       "    </tr>\n",
       "    <tr>\n",
       "      <th>30</th>\n",
       "      <td>phospho-p44</td>\n",
       "      <td>5.710000</td>\n",
       "    </tr>\n",
       "    <tr>\n",
       "      <th>31</th>\n",
       "      <td>Hoechst_17</td>\n",
       "      <td>7.251325</td>\n",
       "    </tr>\n",
       "    <tr>\n",
       "      <th>32</th>\n",
       "      <td>FAP</td>\n",
       "      <td>5.210000</td>\n",
       "    </tr>\n",
       "  </tbody>\n",
       "</table>\n",
       "</div>"
      ],
      "text/plain": [
       "          markers     gates\n",
       "0             AXL  3.600000\n",
       "1             CD4  3.900000\n",
       "2            CD45  3.600000\n",
       "3            FRA1  4.900000\n",
       "4            FRA2  3.000000\n",
       "5         Hoechst  5.000000\n",
       "6            JUNB  2.900000\n",
       "7            JUND  3.700000\n",
       "8            Ki67  2.850000\n",
       "9            MITF  4.300000\n",
       "10           NGFR  6.500000\n",
       "11          PRAME  2.860000\n",
       "12          SOX10  4.600000\n",
       "13           SOX9  4.200000\n",
       "14           cFOS  3.900000\n",
       "15           cJUN  2.900000\n",
       "16          pancK  2.700000\n",
       "17          CD163  4.760000\n",
       "18       alphaSMA  3.400000\n",
       "19            CD8  4.100000\n",
       "20           CD19  5.080000\n",
       "21     Hoechst_11  7.343920\n",
       "22           CD31  4.100000\n",
       "23      PDGFRBeta  4.860000\n",
       "24         pSTAT1  3.480000\n",
       "25          FOXP3  3.700000\n",
       "26           CD68  3.400000\n",
       "27      BRAFV600E  5.000000\n",
       "28    phospho-p38  3.700000\n",
       "29  anti-Melanoma  2.870000\n",
       "30    phospho-p44  5.710000\n",
       "31     Hoechst_17  7.251325\n",
       "32            FAP  5.210000"
      ]
     },
     "execution_count": 107,
     "metadata": {},
     "output_type": "execute_result"
    }
   ],
   "source": [
    "adata_list[0].uns['gates']"
   ]
  },
  {
   "cell_type": "code",
   "execution_count": 110,
   "id": "0d0c8567",
   "metadata": {},
   "outputs": [
    {
     "data": {
      "text/plain": [
       "array([[7.11824365, 3.6653594 , 3.28538609, ..., 3.19831502, 6.63189776,\n",
       "        3.17007039],\n",
       "       [7.27709414, 1.87180218, 2.72639934, ..., 3.56718252, 6.7360439 ,\n",
       "        5.79932573],\n",
       "       [8.38213795, 2.66600196, 2.05525432, ..., 3.36170212, 8.0901048 ,\n",
       "        3.78086974],\n",
       "       ...,\n",
       "       [7.97372321, 2.88210725, 4.04952797, ..., 4.85765677, 7.2900023 ,\n",
       "        5.40430534],\n",
       "       [8.00921074, 3.8867052 , 3.95524212, ..., 7.72341503, 7.62863921,\n",
       "        4.2645153 ],\n",
       "       [7.60739522, 3.22992566, 3.25916434, ..., 7.19581228, 6.64353652,\n",
       "        2.81062202]])"
      ]
     },
     "execution_count": 110,
     "metadata": {},
     "output_type": "execute_result"
    }
   ],
   "source": [
    "adata_list[2].X"
   ]
  },
  {
   "cell_type": "code",
   "execution_count": 109,
   "id": "8a0254b4",
   "metadata": {},
   "outputs": [
    {
     "data": {
      "text/html": [
       "<div>\n",
       "<style scoped>\n",
       "    .dataframe tbody tr th:only-of-type {\n",
       "        vertical-align: middle;\n",
       "    }\n",
       "\n",
       "    .dataframe tbody tr th {\n",
       "        vertical-align: top;\n",
       "    }\n",
       "\n",
       "    .dataframe thead th {\n",
       "        text-align: right;\n",
       "    }\n",
       "</style>\n",
       "<table border=\"1\" class=\"dataframe\">\n",
       "  <thead>\n",
       "    <tr style=\"text-align: right;\">\n",
       "      <th></th>\n",
       "      <th>Case3-9</th>\n",
       "    </tr>\n",
       "    <tr>\n",
       "      <th>markers</th>\n",
       "      <th></th>\n",
       "    </tr>\n",
       "  </thead>\n",
       "  <tbody>\n",
       "    <tr>\n",
       "      <th>Hoechst_1</th>\n",
       "      <td>7.766028</td>\n",
       "    </tr>\n",
       "    <tr>\n",
       "      <th>PRAME</th>\n",
       "      <td>3.350000</td>\n",
       "    </tr>\n",
       "    <tr>\n",
       "      <th>MITF</th>\n",
       "      <td>3.300000</td>\n",
       "    </tr>\n",
       "    <tr>\n",
       "      <th>JUND</th>\n",
       "      <td>3.750000</td>\n",
       "    </tr>\n",
       "    <tr>\n",
       "      <th>SOX10</th>\n",
       "      <td>5.500000</td>\n",
       "    </tr>\n",
       "    <tr>\n",
       "      <th>cJUN</th>\n",
       "      <td>3.170000</td>\n",
       "    </tr>\n",
       "    <tr>\n",
       "      <th>cFOS</th>\n",
       "      <td>3.600000</td>\n",
       "    </tr>\n",
       "    <tr>\n",
       "      <th>NGFR</th>\n",
       "      <td>5.250000</td>\n",
       "    </tr>\n",
       "    <tr>\n",
       "      <th>SOX9</th>\n",
       "      <td>4.200000</td>\n",
       "    </tr>\n",
       "    <tr>\n",
       "      <th>Ki67</th>\n",
       "      <td>3.300000</td>\n",
       "    </tr>\n",
       "    <tr>\n",
       "      <th>CD45</th>\n",
       "      <td>3.600000</td>\n",
       "    </tr>\n",
       "    <tr>\n",
       "      <th>AXL</th>\n",
       "      <td>3.270000</td>\n",
       "    </tr>\n",
       "    <tr>\n",
       "      <th>FRA1</th>\n",
       "      <td>3.930000</td>\n",
       "    </tr>\n",
       "    <tr>\n",
       "      <th>Hoechst_6</th>\n",
       "      <td>7.043434</td>\n",
       "    </tr>\n",
       "    <tr>\n",
       "      <th>CD4</th>\n",
       "      <td>4.300000</td>\n",
       "    </tr>\n",
       "    <tr>\n",
       "      <th>JUNB</th>\n",
       "      <td>3.180000</td>\n",
       "    </tr>\n",
       "    <tr>\n",
       "      <th>pancK</th>\n",
       "      <td>2.460000</td>\n",
       "    </tr>\n",
       "    <tr>\n",
       "      <th>FRA2</th>\n",
       "      <td>3.490000</td>\n",
       "    </tr>\n",
       "    <tr>\n",
       "      <th>CD163</th>\n",
       "      <td>3.850000</td>\n",
       "    </tr>\n",
       "    <tr>\n",
       "      <th>alphaSMA</th>\n",
       "      <td>3.760000</td>\n",
       "    </tr>\n",
       "    <tr>\n",
       "      <th>CD8</th>\n",
       "      <td>4.670000</td>\n",
       "    </tr>\n",
       "    <tr>\n",
       "      <th>CD19</th>\n",
       "      <td>4.200000</td>\n",
       "    </tr>\n",
       "    <tr>\n",
       "      <th>Hoechst_11</th>\n",
       "      <td>6.702634</td>\n",
       "    </tr>\n",
       "    <tr>\n",
       "      <th>CD31</th>\n",
       "      <td>4.310000</td>\n",
       "    </tr>\n",
       "    <tr>\n",
       "      <th>PDGFRBeta</th>\n",
       "      <td>4.300000</td>\n",
       "    </tr>\n",
       "    <tr>\n",
       "      <th>pSTAT1</th>\n",
       "      <td>3.530000</td>\n",
       "    </tr>\n",
       "    <tr>\n",
       "      <th>FOXP3</th>\n",
       "      <td>3.560000</td>\n",
       "    </tr>\n",
       "    <tr>\n",
       "      <th>CD68</th>\n",
       "      <td>3.870000</td>\n",
       "    </tr>\n",
       "    <tr>\n",
       "      <th>BRAFV600E</th>\n",
       "      <td>2.799708</td>\n",
       "    </tr>\n",
       "    <tr>\n",
       "      <th>phospho-p38</th>\n",
       "      <td>3.570000</td>\n",
       "    </tr>\n",
       "    <tr>\n",
       "      <th>anti-Melanoma</th>\n",
       "      <td>3.590000</td>\n",
       "    </tr>\n",
       "    <tr>\n",
       "      <th>phospho-p44</th>\n",
       "      <td>4.930000</td>\n",
       "    </tr>\n",
       "    <tr>\n",
       "      <th>Hoechst_17</th>\n",
       "      <td>6.853339</td>\n",
       "    </tr>\n",
       "    <tr>\n",
       "      <th>FAP</th>\n",
       "      <td>6.000000</td>\n",
       "    </tr>\n",
       "  </tbody>\n",
       "</table>\n",
       "</div>"
      ],
      "text/plain": [
       "                Case3-9\n",
       "markers                \n",
       "Hoechst_1      7.766028\n",
       "PRAME          3.350000\n",
       "MITF           3.300000\n",
       "JUND           3.750000\n",
       "SOX10          5.500000\n",
       "cJUN           3.170000\n",
       "cFOS           3.600000\n",
       "NGFR           5.250000\n",
       "SOX9           4.200000\n",
       "Ki67           3.300000\n",
       "CD45           3.600000\n",
       "AXL            3.270000\n",
       "FRA1           3.930000\n",
       "Hoechst_6      7.043434\n",
       "CD4            4.300000\n",
       "JUNB           3.180000\n",
       "pancK          2.460000\n",
       "FRA2           3.490000\n",
       "CD163          3.850000\n",
       "alphaSMA       3.760000\n",
       "CD8            4.670000\n",
       "CD19           4.200000\n",
       "Hoechst_11     6.702634\n",
       "CD31           4.310000\n",
       "PDGFRBeta      4.300000\n",
       "pSTAT1         3.530000\n",
       "FOXP3          3.560000\n",
       "CD68           3.870000\n",
       "BRAFV600E      2.799708\n",
       "phospho-p38    3.570000\n",
       "anti-Melanoma  3.590000\n",
       "phospho-p44    4.930000\n",
       "Hoechst_17     6.853339\n",
       "FAP            6.000000"
      ]
     },
     "execution_count": 109,
     "metadata": {},
     "output_type": "execute_result"
    }
   ],
   "source": [
    "adata_list[2].uns['gates']"
   ]
  },
  {
   "cell_type": "code",
   "execution_count": 108,
   "id": "0a61349f",
   "metadata": {},
   "outputs": [
    {
     "name": "stderr",
     "output_type": "stream",
     "text": [
      "/Users/zqn7td/anaconda3/envs/scimap/lib/python3.10/site-packages/scimap/preprocessing/rescale.py:145: FutureWarning:\n",
      "\n",
      "Downcasting object dtype arrays on .fillna, .ffill, .bfill is deprecated and will change in a future version. Call result.infer_objects(copy=False) instead. To opt-in to the future behavior, set `pd.set_option('future.no_silent_downcasting', True)`\n",
      "\n"
     ]
    },
    {
     "name": "stdout",
     "output_type": "stream",
     "text": [
      "\n",
      "Scaling Image: Case3-9\n",
      "Scaling Hoechst_1 (gate: 7.766)\n",
      "Scaling PRAME (gate: 3.350)\n",
      "Scaling MITF (gate: 3.300)\n",
      "Scaling JUND (gate: 3.750)\n",
      "Scaling SOX10 (gate: 5.500)\n",
      "Scaling cJUN (gate: 3.170)\n",
      "Scaling cFOS (gate: 3.600)\n",
      "Scaling NGFR (gate: 5.250)\n"
     ]
    },
    {
     "ename": "ValueError",
     "evalue": "An exception occurred: NGFR has nan values",
     "output_type": "error",
     "traceback": [
      "\u001b[0;31m---------------------------------------------------------------------------\u001b[0m",
      "\u001b[0;31mValueError\u001b[0m                                Traceback (most recent call last)",
      "Cell \u001b[0;32mIn[108], line 1\u001b[0m\n\u001b[0;32m----> 1\u001b[0m \u001b[43msm\u001b[49m\u001b[38;5;241;43m.\u001b[39;49m\u001b[43mpp\u001b[49m\u001b[38;5;241;43m.\u001b[39;49m\u001b[43mrescale\u001b[49m\u001b[43m(\u001b[49m\u001b[43madata_list\u001b[49m\u001b[43m[\u001b[49m\u001b[38;5;241;43m2\u001b[39;49m\u001b[43m]\u001b[49m\u001b[43m,\u001b[49m\u001b[43m \u001b[49m\u001b[43mgate\u001b[49m\u001b[38;5;241;43m=\u001b[39;49m\u001b[43madata_list\u001b[49m\u001b[43m[\u001b[49m\u001b[38;5;241;43m2\u001b[39;49m\u001b[43m]\u001b[49m\u001b[38;5;241;43m.\u001b[39;49m\u001b[43muns\u001b[49m\u001b[43m[\u001b[49m\u001b[38;5;124;43m'\u001b[39;49m\u001b[38;5;124;43mgates\u001b[39;49m\u001b[38;5;124;43m'\u001b[39;49m\u001b[43m]\u001b[49m\u001b[43m)\u001b[49m\n",
      "File \u001b[0;32m~/anaconda3/envs/scimap/lib/python3.10/site-packages/scimap/preprocessing/rescale.py:438\u001b[0m, in \u001b[0;36mrescale\u001b[0;34m(adata, gate, log, imageid, failed_markers, method, verbose, random_state, gmm_components)\u001b[0m\n\u001b[1;32m    436\u001b[0m \u001b[38;5;66;03m# Run the scaler function\u001b[39;00m\n\u001b[1;32m    437\u001b[0m r_data_scaler \u001b[38;5;241m=\u001b[39m \u001b[38;5;28;01mlambda\u001b[39;00m x: data_scaler(adata_subset\u001b[38;5;241m=\u001b[39mx, gate_mapping\u001b[38;5;241m=\u001b[39mgate_mapping)\n\u001b[0;32m--> 438\u001b[0m scaled_subset \u001b[38;5;241m=\u001b[39m \u001b[38;5;28;43mlist\u001b[39;49m\u001b[43m(\u001b[49m\u001b[38;5;28;43mmap\u001b[39;49m\u001b[43m(\u001b[49m\u001b[43mr_data_scaler\u001b[49m\u001b[43m,\u001b[49m\u001b[43m \u001b[49m\u001b[43madata_list\u001b[49m\u001b[43m)\u001b[49m\u001b[43m)\u001b[49m\n\u001b[1;32m    440\u001b[0m \u001b[38;5;66;03m# combine the results and merge with gate_mapping\u001b[39;00m\n\u001b[1;32m    441\u001b[0m final_result \u001b[38;5;241m=\u001b[39m []\n",
      "File \u001b[0;32m~/anaconda3/envs/scimap/lib/python3.10/site-packages/scimap/preprocessing/rescale.py:437\u001b[0m, in \u001b[0;36mrescale.<locals>.<lambda>\u001b[0;34m(x)\u001b[0m\n\u001b[1;32m    434\u001b[0m adata_list \u001b[38;5;241m=\u001b[39m [adata[adata\u001b[38;5;241m.\u001b[39mobs[imageid] \u001b[38;5;241m==\u001b[39m i] \u001b[38;5;28;01mfor\u001b[39;00m i \u001b[38;5;129;01min\u001b[39;00m adata\u001b[38;5;241m.\u001b[39mobs[imageid]\u001b[38;5;241m.\u001b[39munique()]\n\u001b[1;32m    436\u001b[0m \u001b[38;5;66;03m# Run the scaler function\u001b[39;00m\n\u001b[0;32m--> 437\u001b[0m r_data_scaler \u001b[38;5;241m=\u001b[39m \u001b[38;5;28;01mlambda\u001b[39;00m x: \u001b[43mdata_scaler\u001b[49m\u001b[43m(\u001b[49m\u001b[43madata_subset\u001b[49m\u001b[38;5;241;43m=\u001b[39;49m\u001b[43mx\u001b[49m\u001b[43m,\u001b[49m\u001b[43m \u001b[49m\u001b[43mgate_mapping\u001b[49m\u001b[38;5;241;43m=\u001b[39;49m\u001b[43mgate_mapping\u001b[49m\u001b[43m)\u001b[49m\n\u001b[1;32m    438\u001b[0m scaled_subset \u001b[38;5;241m=\u001b[39m \u001b[38;5;28mlist\u001b[39m(\u001b[38;5;28mmap\u001b[39m(r_data_scaler, adata_list))\n\u001b[1;32m    440\u001b[0m \u001b[38;5;66;03m# combine the results and merge with gate_mapping\u001b[39;00m\n",
      "File \u001b[0;32m~/anaconda3/envs/scimap/lib/python3.10/site-packages/scimap/preprocessing/rescale.py:418\u001b[0m, in \u001b[0;36mrescale.<locals>.data_scaler\u001b[0;34m(adata_subset, gate_mapping)\u001b[0m\n\u001b[1;32m    414\u001b[0m \u001b[38;5;66;03m# run internal function\u001b[39;00m\n\u001b[1;32m    415\u001b[0m r_data_scaler_internal \u001b[38;5;241m=\u001b[39m \u001b[38;5;28;01mlambda\u001b[39;00m x: data_scaler_internal(\n\u001b[1;32m    416\u001b[0m     marker\u001b[38;5;241m=\u001b[39mx, gate_mapping_sub\u001b[38;5;241m=\u001b[39mgate_mapping_sub\n\u001b[1;32m    417\u001b[0m )\n\u001b[0;32m--> 418\u001b[0m scaled_subset \u001b[38;5;241m=\u001b[39m \u001b[38;5;28;43mlist\u001b[39;49m\u001b[43m(\u001b[49m\n\u001b[1;32m    419\u001b[0m \u001b[43m    \u001b[49m\u001b[38;5;28;43mmap\u001b[39;49m\u001b[43m(\u001b[49m\u001b[43mr_data_scaler_internal\u001b[49m\u001b[43m,\u001b[49m\u001b[43m \u001b[49m\u001b[43mgate_mapping_sub\u001b[49m\u001b[38;5;241;43m.\u001b[39;49m\u001b[43mmarkers\u001b[49m\u001b[38;5;241;43m.\u001b[39;49m\u001b[43mvalues\u001b[49m\u001b[43m)\u001b[49m\n\u001b[1;32m    420\u001b[0m \u001b[43m\u001b[49m\u001b[43m)\u001b[49m\n\u001b[1;32m    422\u001b[0m \u001b[38;5;66;03m# combine the results and merge with gate_mapping\u001b[39;00m\n\u001b[1;32m    423\u001b[0m scaled_subset_result \u001b[38;5;241m=\u001b[39m []\n",
      "File \u001b[0;32m~/anaconda3/envs/scimap/lib/python3.10/site-packages/scimap/preprocessing/rescale.py:415\u001b[0m, in \u001b[0;36mrescale.<locals>.data_scaler.<locals>.<lambda>\u001b[0;34m(x)\u001b[0m\n\u001b[1;32m    412\u001b[0m     \u001b[38;5;28;01mreturn\u001b[39;00m scaled_data\n\u001b[1;32m    414\u001b[0m \u001b[38;5;66;03m# run internal function\u001b[39;00m\n\u001b[0;32m--> 415\u001b[0m r_data_scaler_internal \u001b[38;5;241m=\u001b[39m \u001b[38;5;28;01mlambda\u001b[39;00m x: \u001b[43mdata_scaler_internal\u001b[49m\u001b[43m(\u001b[49m\n\u001b[1;32m    416\u001b[0m \u001b[43m    \u001b[49m\u001b[43mmarker\u001b[49m\u001b[38;5;241;43m=\u001b[39;49m\u001b[43mx\u001b[49m\u001b[43m,\u001b[49m\u001b[43m \u001b[49m\u001b[43mgate_mapping_sub\u001b[49m\u001b[38;5;241;43m=\u001b[39;49m\u001b[43mgate_mapping_sub\u001b[49m\n\u001b[1;32m    417\u001b[0m \u001b[43m\u001b[49m\u001b[43m)\u001b[49m\n\u001b[1;32m    418\u001b[0m scaled_subset \u001b[38;5;241m=\u001b[39m \u001b[38;5;28mlist\u001b[39m(\n\u001b[1;32m    419\u001b[0m     \u001b[38;5;28mmap\u001b[39m(r_data_scaler_internal, gate_mapping_sub\u001b[38;5;241m.\u001b[39mmarkers\u001b[38;5;241m.\u001b[39mvalues)\n\u001b[1;32m    420\u001b[0m )\n\u001b[1;32m    422\u001b[0m \u001b[38;5;66;03m# combine the results and merge with gate_mapping\u001b[39;00m\n",
      "File \u001b[0;32m~/anaconda3/envs/scimap/lib/python3.10/site-packages/scimap/preprocessing/rescale.py:377\u001b[0m, in \u001b[0;36mrescale.<locals>.data_scaler.<locals>.data_scaler_internal\u001b[0;34m(marker, gate_mapping_sub)\u001b[0m\n\u001b[1;32m    375\u001b[0m \u001b[38;5;66;03m# throw error if the array has nan values\u001b[39;00m\n\u001b[1;32m    376\u001b[0m \u001b[38;5;28;01mif\u001b[39;00m np\u001b[38;5;241m.\u001b[39misnan(absolute_val_array)\u001b[38;5;241m.\u001b[39many():\n\u001b[0;32m--> 377\u001b[0m     \u001b[38;5;28;01mraise\u001b[39;00m \u001b[38;5;167;01mValueError\u001b[39;00m(\n\u001b[1;32m    378\u001b[0m         \u001b[38;5;124m\"\u001b[39m\u001b[38;5;124mAn exception occurred: \u001b[39m\u001b[38;5;124m\"\u001b[39m \u001b[38;5;241m+\u001b[39m \u001b[38;5;28mstr\u001b[39m(marker) \u001b[38;5;241m+\u001b[39m \u001b[38;5;124m'\u001b[39m\u001b[38;5;124m has nan values\u001b[39m\u001b[38;5;124m'\u001b[39m\n\u001b[1;32m    379\u001b[0m     )\n\u001b[1;32m    380\u001b[0m \u001b[38;5;66;03m# smallest diff\u001b[39;00m\n\u001b[1;32m    381\u001b[0m smallest_difference_index \u001b[38;5;241m=\u001b[39m absolute_val_array\u001b[38;5;241m.\u001b[39margmin()\n",
      "\u001b[0;31mValueError\u001b[0m: An exception occurred: NGFR has nan values"
     ]
    }
   ],
   "source": [
    "sm.pp.rescale(adata_list[2], gate=adata_list[2].uns['gates'])"
   ]
  },
  {
   "cell_type": "code",
   "execution_count": null,
   "id": "373ef1b3",
   "metadata": {},
   "outputs": [
    {
     "name": "stderr",
     "output_type": "stream",
     "text": [
      "/Users/zqn7td/anaconda3/envs/scimap/lib/python3.10/site-packages/scimap/preprocessing/rescale.py:126: FutureWarning:\n",
      "\n",
      "Downcasting object dtype arrays on .fillna, .ffill, .bfill is deprecated and will change in a future version. Call result.infer_objects(copy=False) instead. To opt-in to the future behavior, set `pd.set_option('future.no_silent_downcasting', True)`\n",
      "\n"
     ]
    },
    {
     "name": "stdout",
     "output_type": "stream",
     "text": [
      "Running GMM for image: Case1-31\n",
      "Applying GMM to markers: Hoechst_1, Hoechst_6\n",
      "\n",
      "Scaling Image: Case1-31\n",
      "Scaling Hoechst_1 (gate: 7.753)\n",
      "Scaling PRAME (gate: 2.860)\n",
      "Scaling MITF (gate: 4.300)\n",
      "Scaling JUND (gate: 3.700)\n",
      "Scaling SOX10 (gate: 4.600)\n",
      "Scaling cJUN (gate: 2.900)\n",
      "Scaling cFOS (gate: 3.900)\n",
      "Scaling NGFR (gate: 6.500)\n"
     ]
    },
    {
     "ename": "ValueError",
     "evalue": "An exception occurred: NGFR has nan values",
     "output_type": "error",
     "traceback": [
      "\u001b[0;31m---------------------------------------------------------------------------\u001b[0m",
      "\u001b[0;31mValueError\u001b[0m                                Traceback (most recent call last)",
      "Cell \u001b[0;32mIn[105], line 7\u001b[0m\n\u001b[1;32m      2\u001b[0m adata \u001b[38;5;241m=\u001b[39m adata_list[i]\n\u001b[1;32m      4\u001b[0m \u001b[38;5;66;03m# Validate gate format if necessary (optional safety check)\u001b[39;00m\n\u001b[0;32m----> 7\u001b[0m \u001b[43msm\u001b[49m\u001b[38;5;241;43m.\u001b[39;49m\u001b[43mpp\u001b[49m\u001b[38;5;241;43m.\u001b[39;49m\u001b[43mrescale\u001b[49m\u001b[43m(\u001b[49m\u001b[43madata\u001b[49m\u001b[43m,\u001b[49m\u001b[43m \u001b[49m\u001b[43mgate\u001b[49m\u001b[38;5;241;43m=\u001b[39;49m\u001b[43madata\u001b[49m\u001b[38;5;241;43m.\u001b[39;49m\u001b[43muns\u001b[49m\u001b[43m[\u001b[49m\u001b[38;5;124;43m'\u001b[39;49m\u001b[38;5;124;43mgates\u001b[39;49m\u001b[38;5;124;43m'\u001b[39;49m\u001b[43m]\u001b[49m\u001b[43m)\u001b[49m\n\u001b[1;32m      9\u001b[0m adata \u001b[38;5;241m=\u001b[39m sm\u001b[38;5;241m.\u001b[39mtl\u001b[38;5;241m.\u001b[39mphenotype_cells(adata, phenotype\u001b[38;5;241m=\u001b[39mphenotype, label\u001b[38;5;241m=\u001b[39m\u001b[38;5;124m\"\u001b[39m\u001b[38;5;124mphenotype\u001b[39m\u001b[38;5;124m\"\u001b[39m)\n\u001b[1;32m     11\u001b[0m adata_list[i] \u001b[38;5;241m=\u001b[39m adata\n",
      "File \u001b[0;32m~/anaconda3/envs/scimap/lib/python3.10/site-packages/scimap/preprocessing/rescale.py:438\u001b[0m, in \u001b[0;36mrescale\u001b[0;34m(adata, gate, log, imageid, failed_markers, method, verbose, random_state, gmm_components)\u001b[0m\n\u001b[1;32m    436\u001b[0m \u001b[38;5;66;03m# Run the scaler function\u001b[39;00m\n\u001b[1;32m    437\u001b[0m r_data_scaler \u001b[38;5;241m=\u001b[39m \u001b[38;5;28;01mlambda\u001b[39;00m x: data_scaler(adata_subset\u001b[38;5;241m=\u001b[39mx, gate_mapping\u001b[38;5;241m=\u001b[39mgate_mapping)\n\u001b[0;32m--> 438\u001b[0m scaled_subset \u001b[38;5;241m=\u001b[39m \u001b[38;5;28;43mlist\u001b[39;49m\u001b[43m(\u001b[49m\u001b[38;5;28;43mmap\u001b[39;49m\u001b[43m(\u001b[49m\u001b[43mr_data_scaler\u001b[49m\u001b[43m,\u001b[49m\u001b[43m \u001b[49m\u001b[43madata_list\u001b[49m\u001b[43m)\u001b[49m\u001b[43m)\u001b[49m\n\u001b[1;32m    440\u001b[0m \u001b[38;5;66;03m# combine the results and merge with gate_mapping\u001b[39;00m\n\u001b[1;32m    441\u001b[0m final_result \u001b[38;5;241m=\u001b[39m []\n",
      "File \u001b[0;32m~/anaconda3/envs/scimap/lib/python3.10/site-packages/scimap/preprocessing/rescale.py:437\u001b[0m, in \u001b[0;36mrescale.<locals>.<lambda>\u001b[0;34m(x)\u001b[0m\n\u001b[1;32m    434\u001b[0m adata_list \u001b[38;5;241m=\u001b[39m [adata[adata\u001b[38;5;241m.\u001b[39mobs[imageid] \u001b[38;5;241m==\u001b[39m i] \u001b[38;5;28;01mfor\u001b[39;00m i \u001b[38;5;129;01min\u001b[39;00m adata\u001b[38;5;241m.\u001b[39mobs[imageid]\u001b[38;5;241m.\u001b[39munique()]\n\u001b[1;32m    436\u001b[0m \u001b[38;5;66;03m# Run the scaler function\u001b[39;00m\n\u001b[0;32m--> 437\u001b[0m r_data_scaler \u001b[38;5;241m=\u001b[39m \u001b[38;5;28;01mlambda\u001b[39;00m x: \u001b[43mdata_scaler\u001b[49m\u001b[43m(\u001b[49m\u001b[43madata_subset\u001b[49m\u001b[38;5;241;43m=\u001b[39;49m\u001b[43mx\u001b[49m\u001b[43m,\u001b[49m\u001b[43m \u001b[49m\u001b[43mgate_mapping\u001b[49m\u001b[38;5;241;43m=\u001b[39;49m\u001b[43mgate_mapping\u001b[49m\u001b[43m)\u001b[49m\n\u001b[1;32m    438\u001b[0m scaled_subset \u001b[38;5;241m=\u001b[39m \u001b[38;5;28mlist\u001b[39m(\u001b[38;5;28mmap\u001b[39m(r_data_scaler, adata_list))\n\u001b[1;32m    440\u001b[0m \u001b[38;5;66;03m# combine the results and merge with gate_mapping\u001b[39;00m\n",
      "File \u001b[0;32m~/anaconda3/envs/scimap/lib/python3.10/site-packages/scimap/preprocessing/rescale.py:418\u001b[0m, in \u001b[0;36mrescale.<locals>.data_scaler\u001b[0;34m(adata_subset, gate_mapping)\u001b[0m\n\u001b[1;32m    414\u001b[0m \u001b[38;5;66;03m# run internal function\u001b[39;00m\n\u001b[1;32m    415\u001b[0m r_data_scaler_internal \u001b[38;5;241m=\u001b[39m \u001b[38;5;28;01mlambda\u001b[39;00m x: data_scaler_internal(\n\u001b[1;32m    416\u001b[0m     marker\u001b[38;5;241m=\u001b[39mx, gate_mapping_sub\u001b[38;5;241m=\u001b[39mgate_mapping_sub\n\u001b[1;32m    417\u001b[0m )\n\u001b[0;32m--> 418\u001b[0m scaled_subset \u001b[38;5;241m=\u001b[39m \u001b[38;5;28;43mlist\u001b[39;49m\u001b[43m(\u001b[49m\n\u001b[1;32m    419\u001b[0m \u001b[43m    \u001b[49m\u001b[38;5;28;43mmap\u001b[39;49m\u001b[43m(\u001b[49m\u001b[43mr_data_scaler_internal\u001b[49m\u001b[43m,\u001b[49m\u001b[43m \u001b[49m\u001b[43mgate_mapping_sub\u001b[49m\u001b[38;5;241;43m.\u001b[39;49m\u001b[43mmarkers\u001b[49m\u001b[38;5;241;43m.\u001b[39;49m\u001b[43mvalues\u001b[49m\u001b[43m)\u001b[49m\n\u001b[1;32m    420\u001b[0m \u001b[43m\u001b[49m\u001b[43m)\u001b[49m\n\u001b[1;32m    422\u001b[0m \u001b[38;5;66;03m# combine the results and merge with gate_mapping\u001b[39;00m\n\u001b[1;32m    423\u001b[0m scaled_subset_result \u001b[38;5;241m=\u001b[39m []\n",
      "File \u001b[0;32m~/anaconda3/envs/scimap/lib/python3.10/site-packages/scimap/preprocessing/rescale.py:415\u001b[0m, in \u001b[0;36mrescale.<locals>.data_scaler.<locals>.<lambda>\u001b[0;34m(x)\u001b[0m\n\u001b[1;32m    412\u001b[0m     \u001b[38;5;28;01mreturn\u001b[39;00m scaled_data\n\u001b[1;32m    414\u001b[0m \u001b[38;5;66;03m# run internal function\u001b[39;00m\n\u001b[0;32m--> 415\u001b[0m r_data_scaler_internal \u001b[38;5;241m=\u001b[39m \u001b[38;5;28;01mlambda\u001b[39;00m x: \u001b[43mdata_scaler_internal\u001b[49m\u001b[43m(\u001b[49m\n\u001b[1;32m    416\u001b[0m \u001b[43m    \u001b[49m\u001b[43mmarker\u001b[49m\u001b[38;5;241;43m=\u001b[39;49m\u001b[43mx\u001b[49m\u001b[43m,\u001b[49m\u001b[43m \u001b[49m\u001b[43mgate_mapping_sub\u001b[49m\u001b[38;5;241;43m=\u001b[39;49m\u001b[43mgate_mapping_sub\u001b[49m\n\u001b[1;32m    417\u001b[0m \u001b[43m\u001b[49m\u001b[43m)\u001b[49m\n\u001b[1;32m    418\u001b[0m scaled_subset \u001b[38;5;241m=\u001b[39m \u001b[38;5;28mlist\u001b[39m(\n\u001b[1;32m    419\u001b[0m     \u001b[38;5;28mmap\u001b[39m(r_data_scaler_internal, gate_mapping_sub\u001b[38;5;241m.\u001b[39mmarkers\u001b[38;5;241m.\u001b[39mvalues)\n\u001b[1;32m    420\u001b[0m )\n\u001b[1;32m    422\u001b[0m \u001b[38;5;66;03m# combine the results and merge with gate_mapping\u001b[39;00m\n",
      "File \u001b[0;32m~/anaconda3/envs/scimap/lib/python3.10/site-packages/scimap/preprocessing/rescale.py:377\u001b[0m, in \u001b[0;36mrescale.<locals>.data_scaler.<locals>.data_scaler_internal\u001b[0;34m(marker, gate_mapping_sub)\u001b[0m\n\u001b[1;32m    375\u001b[0m \u001b[38;5;66;03m# throw error if the array has nan values\u001b[39;00m\n\u001b[1;32m    376\u001b[0m \u001b[38;5;28;01mif\u001b[39;00m np\u001b[38;5;241m.\u001b[39misnan(absolute_val_array)\u001b[38;5;241m.\u001b[39many():\n\u001b[0;32m--> 377\u001b[0m     \u001b[38;5;28;01mraise\u001b[39;00m \u001b[38;5;167;01mValueError\u001b[39;00m(\n\u001b[1;32m    378\u001b[0m         \u001b[38;5;124m\"\u001b[39m\u001b[38;5;124mAn exception occurred: \u001b[39m\u001b[38;5;124m\"\u001b[39m \u001b[38;5;241m+\u001b[39m \u001b[38;5;28mstr\u001b[39m(marker) \u001b[38;5;241m+\u001b[39m \u001b[38;5;124m'\u001b[39m\u001b[38;5;124m has nan values\u001b[39m\u001b[38;5;124m'\u001b[39m\n\u001b[1;32m    379\u001b[0m     )\n\u001b[1;32m    380\u001b[0m \u001b[38;5;66;03m# smallest diff\u001b[39;00m\n\u001b[1;32m    381\u001b[0m smallest_difference_index \u001b[38;5;241m=\u001b[39m absolute_val_array\u001b[38;5;241m.\u001b[39margmin()\n",
      "\u001b[0;31mValueError\u001b[0m: An exception occurred: NGFR has nan values"
     ]
    }
   ],
   "source": [
    "for i in range(len(adata_list)):\n",
    "    adata = adata_list[i]\n",
    "\n",
    "    # Validate gate format if necessary (optional safety check)\n",
    "    \n",
    "\n",
    "    sm.pp.rescale(adata, gate=adata.uns['gates'])\n",
    "\n",
    "    adata = sm.tl.phenotype_cells(adata, phenotype=phenotype, label=\"phenotype\")\n",
    "\n",
    "    adata_list[i] = adata  # store back if needed"
   ]
  },
  {
   "cell_type": "markdown",
   "id": "46246702",
   "metadata": {},
   "source": [
    "Replace all \"Tumor cell\" phenotypes with \"Unknown\""
   ]
  },
  {
   "cell_type": "code",
   "execution_count": null,
   "id": "755334d1",
   "metadata": {},
   "outputs": [],
   "source": [
    "for i in range(len(adata_list)):\n",
    "    adata = adata_list[i]\n",
    "    adata.obs['phenotype'] = adata.obs['phenotype'].replace('Tumor cell', 'Unknown')\n"
   ]
  },
  {
   "cell_type": "markdown",
   "id": "ce5955f3",
   "metadata": {},
   "source": [
    "Assign cell phenotype category. ie. Identify tumor cells vs TME "
   ]
  },
  {
   "cell_type": "code",
   "execution_count": null,
   "id": "32b4830c",
   "metadata": {},
   "outputs": [],
   "source": [
    "for i in range(len(adata_list)):\n",
    "    adata = adata_list[i]\n",
    "    adata.obs['phenotype_category'] = adata.obs['phenotype'].apply(hm.categorize_phenotype)"
   ]
  },
  {
   "cell_type": "code",
   "execution_count": 111,
   "id": "9d0179e9",
   "metadata": {},
   "outputs": [],
   "source": [
    "for adata in adata_list:\n",
    "    adata.write_h5ad(os.path.join(project_dir,'processed_adata',f\"{adata.obs['imageid'].unique()[0]}_TME_new_adata.h5ad\"))"
   ]
  },
  {
   "cell_type": "code",
   "execution_count": null,
   "id": "ce92e9de",
   "metadata": {},
   "outputs": [],
   "source": []
  }
 ],
 "metadata": {
  "kernelspec": {
   "display_name": "scimap",
   "language": "python",
   "name": "python3"
  },
  "language_info": {
   "codemirror_mode": {
    "name": "ipython",
    "version": 3
   },
   "file_extension": ".py",
   "mimetype": "text/x-python",
   "name": "python",
   "nbconvert_exporter": "python",
   "pygments_lexer": "ipython3",
   "version": "3.10.16"
  }
 },
 "nbformat": 4,
 "nbformat_minor": 5
}
