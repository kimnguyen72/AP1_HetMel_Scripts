{
 "cells": [
  {
   "cell_type": "code",
   "execution_count": 1,
   "id": "98e80a39",
   "metadata": {
    "tags": []
   },
   "outputs": [],
   "source": [
    "import os\n",
    "import glob\n",
    "import tifffile\n",
    "from cellpose import utils, io\n",
    "from skimage.io import imsave, imread\n",
    "\n"
   ]
  },
  {
   "cell_type": "code",
   "execution_count": 2,
   "id": "fa96ea34-30af-46ca-aa07-0e948cbb7f95",
   "metadata": {
    "tags": []
   },
   "outputs": [],
   "source": [
    "import numpy as np\n",
    "from scipy.ndimage import distance_transform_edt\n",
    "from skimage.segmentation import watershed\n",
    "import tifffile\n",
    "import os"
   ]
  },
  {
   "cell_type": "code",
   "execution_count": 6,
   "id": "47689ab5",
   "metadata": {
    "tags": []
   },
   "outputs": [],
   "source": [
    "project_dir = (\"/scratch/zqn7td/20250626_HetMel_ImageProcessing/\")\n"
   ]
  },
  {
   "cell_type": "code",
   "execution_count": null,
   "id": "2b6a2e0f-fdd7-4600-b794-061aff4df713",
   "metadata": {},
   "outputs": [],
   "source": []
  },
  {
   "cell_type": "code",
   "execution_count": 6,
   "id": "d0f5d262-a87e-4ebf-a7c0-826daef4ab7c",
   "metadata": {
    "tags": []
   },
   "outputs": [],
   "source": [
    "case_numbers = [\n",
    "    \"Case1-31\",]"
   ]
  },
  {
   "cell_type": "code",
   "execution_count": 7,
   "id": "c12acc49",
   "metadata": {
    "tags": []
   },
   "outputs": [],
   "source": [
    "case_numbers = [\n",
    "    \"Case1-31\",\n",
    "    \"Case2-8\",\n",
    "    \"Case3-9\",\n",
    "    \"Case4-5_R1\",\n",
    "    \"Case4-5_R2\",\n",
    "    \"Case7-10\",\n",
    "    \"Case8-9_R1\",\n",
    "    \"Case8-9_R2\",\n",
    "    \"Case9-7_R2\",\n",
    "    \"Case10-3_R1\",\n",
    "    \"Case10-3_R2\",\n",
    "    \"Case11-13\"\n",
    "]\n"
   ]
  },
  {
   "cell_type": "code",
   "execution_count": 8,
   "id": "869f19a3",
   "metadata": {
    "tags": []
   },
   "outputs": [
    {
     "name": "stdout",
     "output_type": "stream",
     "text": [
      "processing /scratch/zqn7td/20250626_HetMel_ImageProcessing/Case1-31/Case1-31_bgsub2_ome_rotate-crop.ome_dia10.0_cp_segmasks.tif\n",
      "processing /scratch/zqn7td/20250626_HetMel_ImageProcessing/Case2-8/Case2-8_new_bgsub_final.ome_dia10_cp_segmasks.tif\n",
      "processing /scratch/zqn7td/20250626_HetMel_ImageProcessing/Case3-9/Case3-9_new_bgsub_new_rotate-crop_final.ome_cp_segmasks.tif\n",
      "processing /scratch/zqn7td/20250626_HetMel_ImageProcessing/Case4-5_R1/Case4-5_R1_bgsub_rotate-crop.ome_dia12.0_cp_segmasks.tif\n",
      "processing /scratch/zqn7td/20250626_HetMel_ImageProcessing/Case4-5_R2/Case4-5_R2_bgsub_rotate-crop.ome_dia12.0_cp_segmasks.tif\n",
      "processing /scratch/zqn7td/20250626_HetMel_ImageProcessing/Case7-10/Case7-10_new_bgsub_new_rotate-crop_final.ome_dia10_cp_segmasks.tif\n",
      "processing /scratch/zqn7td/20250626_HetMel_ImageProcessing/Case8-9_R1/Case8-9_R1_new_bgsub_rotate-crop_final.ome_dia10_cp_segmasks.tif\n",
      "processing /scratch/zqn7td/20250626_HetMel_ImageProcessing/Case8-9_R2/Case8-9_R2_new_bgsub_rotate-crop_final.ome_dia10_cp_segmasks.tif\n",
      "processing /scratch/zqn7td/20250626_HetMel_ImageProcessing/Case9-7_R2/Case9-7_R2_new_bgsub_new_rotate-crop_final.ome_dia10_cp_segmasks.tif\n",
      "processing /scratch/zqn7td/20250626_HetMel_ImageProcessing/Case10-3_R1/Case10-3_R1_bgsub_rotate-crop.ome_dia10.0_cp_segmasks.tif\n",
      "processing /scratch/zqn7td/20250626_HetMel_ImageProcessing/Case10-3_R2/Case10-3_R2_new_bgsub_rotate-crop_final.ome_dia10_cp_segmasks.tif\n",
      "processing /scratch/zqn7td/20250626_HetMel_ImageProcessing/Case11-13/Case11-13_bgsub_rotate-crop.ome_dia10.0_cp_segmasks.tif\n"
     ]
    }
   ],
   "source": [
    "\n",
    "for case in case_numbers:\n",
    "    case_dir = os.path.join(project_dir, case)\n",
    "    mask_file = glob.glob(os.path.join(case_dir, \"**\", \"*segmask*.tif\"), recursive=True)\n",
    "    mask_path = mask_file[0]\n",
    "    print(f\"processing {mask_path}\")\n",
    "    \n",
    "    masks = io.imread(mask_path)\n",
    "    dilate_masks_with_ring(mask_path,pixels=4,prefix=f\"{case}_segmask\")\n",
    "    "
   ]
  },
  {
   "cell_type": "markdown",
   "id": "5395060a",
   "metadata": {},
   "source": [
    "find image and mask paths"
   ]
  },
  {
   "cell_type": "code",
   "execution_count": 15,
   "id": "6291b630-f67d-4bc6-9376-d60d39dae76c",
   "metadata": {
    "tags": []
   },
   "outputs": [
    {
     "data": {
      "text/plain": [
       "'/scratch/zqn7td/20250626_HetMel_ImageProcessing/Case1-31/Case1-31_bgsub2_ome_rotate-crop.ome_dia10.0_cp_segmasks.tif'"
      ]
     },
     "execution_count": 15,
     "metadata": {},
     "output_type": "execute_result"
    }
   ],
   "source": [
    "mask_path"
   ]
  },
  {
   "cell_type": "code",
   "execution_count": 17,
   "id": "caabffff-24ee-43fa-a624-22671bc637e2",
   "metadata": {
    "tags": []
   },
   "outputs": [],
   "source": [
    "masks = io.imread(mask_path)"
   ]
  },
  {
   "cell_type": "code",
   "execution_count": 21,
   "id": "b6ab4f9f-7f9c-4b34-8d1a-98aeaaf808f8",
   "metadata": {
    "tags": []
   },
   "outputs": [
    {
     "name": "stdout",
     "output_type": "stream",
     "text": [
      "[[0 0 0 ... 0 0 0]\n",
      " [0 0 0 ... 0 0 0]\n",
      " [0 0 0 ... 0 0 0]\n",
      " ...\n",
      " [0 0 0 ... 0 0 0]\n",
      " [0 0 0 ... 0 0 0]\n",
      " [0 0 0 ... 0 0 0]]\n"
     ]
    }
   ],
   "source": [
    "print(masks)"
   ]
  },
  {
   "cell_type": "code",
   "execution_count": 22,
   "id": "5a348db6-ef27-48c3-823a-bc6922a49c77",
   "metadata": {
    "tags": []
   },
   "outputs": [
    {
     "ename": "KeyboardInterrupt",
     "evalue": "",
     "output_type": "error",
     "traceback": [
      "\u001b[0;31m---------------------------------------------------------------------------\u001b[0m",
      "\u001b[0;31mKeyboardInterrupt\u001b[0m                         Traceback (most recent call last)",
      "Cell \u001b[0;32mIn[22], line 1\u001b[0m\n\u001b[0;32m----> 1\u001b[0m cyto_mask \u001b[38;5;241m=\u001b[39m \u001b[43mutils\u001b[49m\u001b[38;5;241;43m.\u001b[39;49m\u001b[43mdilate_masks\u001b[49m\u001b[43m(\u001b[49m\u001b[43mmasks\u001b[49m\u001b[43m,\u001b[49m\u001b[43m \u001b[49m\u001b[38;5;241;43m3\u001b[39;49m\u001b[43m)\u001b[49m\n",
      "File \u001b[0;32m~/.conda/envs/cellpose3/lib/python3.10/site-packages/cellpose/utils.py:343\u001b[0m, in \u001b[0;36mdilate_masks\u001b[0;34m(masks, n_iter)\u001b[0m\n\u001b[1;32m    341\u001b[0m         dilated_mask \u001b[38;5;241m=\u001b[39m cv2\u001b[38;5;241m.\u001b[39mdilate(mask, kernel, iterations\u001b[38;5;241m=\u001b[39m\u001b[38;5;241m1\u001b[39m)\n\u001b[1;32m    342\u001b[0m         dilated_mask \u001b[38;5;241m=\u001b[39m np\u001b[38;5;241m.\u001b[39mlogical_and(dist_transform \u001b[38;5;241m<\u001b[39m \u001b[38;5;241m2\u001b[39m, dilated_mask)\n\u001b[0;32m--> 343\u001b[0m         dilated_masks[dilated_mask \u001b[38;5;241m>\u001b[39m \u001b[38;5;241m0\u001b[39m] \u001b[38;5;241m=\u001b[39m i\n\u001b[1;32m    344\u001b[0m \u001b[38;5;28;01mreturn\u001b[39;00m dilated_masks\n",
      "\u001b[0;31mKeyboardInterrupt\u001b[0m: "
     ]
    }
   ],
   "source": [
    "cyto_mask = utils.dilate_masks(masks, 3)"
   ]
  },
  {
   "cell_type": "code",
   "execution_count": null,
   "id": "e969dd89",
   "metadata": {},
   "outputs": [],
   "source": [
    "# Recursively find all segmask tif files in all subfolders\n",
    "mask_paths = glob.glob(os.path.join(project_dir, \"**\", \"*segmask*.tif\"), recursive=True)"
   ]
  },
  {
   "cell_type": "code",
   "execution_count": 5,
   "id": "9f1fcfb9-5001-4895-af5e-965be9930013",
   "metadata": {
    "tags": []
   },
   "outputs": [],
   "source": [
    "\n",
    "\n",
    "def dilate_masks_with_ring(input_path, pixels=5, save_path=None, prefix=\"mask\"):\n",
    "    \"\"\"\n",
    "    Expand nucleus masks outward by n_iter pixels to create cytoplasmic rings,\n",
    "    with no overlaps between cells. Input and outputs are TIFFs.\n",
    "\n",
    "    Args:\n",
    "        input_path (str): Path to input segmentation mask (TIFF).\n",
    "                          Must be a labeled mask (0 = background, 1..N = objects).\n",
    "        n_iter (int): Ring thickness in pixels.\n",
    "        save_path (str, optional): Directory to save output TIFFs. \n",
    "                                   Defaults to the same directory as input_path.\n",
    "        prefix (str, optional): Prefix for saved filenames.\n",
    "\n",
    "    Returns:\n",
    "        expanded (ndarray): Labeled masks including nucleus + cytoplasm.\n",
    "        rings (ndarray): Labeled cytoplasmic rings only (no nuclei).\n",
    "    \"\"\"\n",
    "    # Load mask as ndarray\n",
    "    masks = tifffile.imread(input_path).astype(np.int32)\n",
    "\n",
    "    # Distance to the nearest nucleus\n",
    "    dist = distance_transform_edt(masks == 0)\n",
    "\n",
    "    # Watershed ensures unique expansion with no overlaps\n",
    "    expanded = watershed(-dist, markers=masks, mask=dist <= pixels)\n",
    "\n",
    "    # Cytoplasmic ring = expanded region minus nucleus\n",
    "    rings = np.where((expanded != 0) & (masks == 0), expanded, 0)\n",
    "\n",
    "    # If no save_path is provided, default to input file’s directory\n",
    "    if save_path is None:\n",
    "        save_path = os.path.dirname(input_path)\n",
    "    os.makedirs(save_path, exist_ok=True)\n",
    "\n",
    "    # Save outputs as TIFF\n",
    "    tifffile.imwrite(f\"{save_path}/{prefix}_nuc_cyto.tif\", expanded.astype(np.uint16))\n",
    "    tifffile.imwrite(f\"{save_path}/{prefix}_cytorings.tif\", rings.astype(np.uint16))\n",
    "\n",
    "    return expanded, rings\n"
   ]
  },
  {
   "cell_type": "code",
   "execution_count": 24,
   "id": "11d3c1bd-a84c-4046-b68e-28597f612549",
   "metadata": {
    "tags": []
   },
   "outputs": [
    {
     "data": {
      "text/plain": [
       "'/scratch/zqn7td/20250626_HetMel_ImageProcessing/Case1-31/Case1-31_bgsub2_ome_rotate-crop.ome_dia10.0_cp_segmasks.tif'"
      ]
     },
     "execution_count": 24,
     "metadata": {},
     "output_type": "execute_result"
    }
   ],
   "source": [
    "mask_path"
   ]
  },
  {
   "cell_type": "code",
   "execution_count": 27,
   "id": "cca618be-8654-48fb-89b9-0a8d47e79925",
   "metadata": {
    "tags": []
   },
   "outputs": [
    {
     "data": {
      "text/plain": [
       "(array([[0, 0, 0, ..., 0, 0, 0],\n",
       "        [0, 0, 0, ..., 0, 0, 0],\n",
       "        [0, 0, 0, ..., 0, 0, 0],\n",
       "        ...,\n",
       "        [0, 0, 0, ..., 0, 0, 0],\n",
       "        [0, 0, 0, ..., 0, 0, 0],\n",
       "        [0, 0, 0, ..., 0, 0, 0]], dtype=int32),\n",
       " array([[0, 0, 0, ..., 0, 0, 0],\n",
       "        [0, 0, 0, ..., 0, 0, 0],\n",
       "        [0, 0, 0, ..., 0, 0, 0],\n",
       "        ...,\n",
       "        [0, 0, 0, ..., 0, 0, 0],\n",
       "        [0, 0, 0, ..., 0, 0, 0],\n",
       "        [0, 0, 0, ..., 0, 0, 0]], dtype=int32))"
      ]
     },
     "execution_count": 27,
     "metadata": {},
     "output_type": "execute_result"
    }
   ],
   "source": [
    "dilate_masks_with_ring(mask_path,n_iter=3)"
   ]
  }
 ],
 "metadata": {
  "kernelspec": {
   "display_name": "cellpose3",
   "language": "python",
   "name": "myenv"
  },
  "language_info": {
   "codemirror_mode": {
    "name": "ipython",
    "version": 3
   },
   "file_extension": ".py",
   "mimetype": "text/x-python",
   "name": "python",
   "nbconvert_exporter": "python",
   "pygments_lexer": "ipython3",
   "version": "3.10.18"
  }
 },
 "nbformat": 4,
 "nbformat_minor": 5
}
